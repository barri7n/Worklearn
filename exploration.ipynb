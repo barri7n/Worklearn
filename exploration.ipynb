{
  "cells": [
    {
      "cell_type": "markdown",
      "metadata": {
        "id": "FtUl1d6n9Kis"
      },
      "source": [
        "* https://www.kaggle.com/competitions/nbme-score-clinical-patient-notes/data\n",
        "* https://www.kaggle.com/datasets/datatattle/covid-19-nlp-text-classification\n",
        "* https://www.kaggle.com/datasets/clmentbisaillon/fake-and-real-news-dataset/code?datasetId=572515&sortBy=voteCount\n",
        "* https://www.kaggle.com/code/avikumart/nlp-news-articles-classif-wordembeddings-rnn\n",
        "* https://www.kaggle.com/code/rcushen/topic-modelling-with-lsa-and-lda\n",
        "\n",
        "Seperate models for each prediction?\n",
        "\n",
        "Feed predictions from previous models and append and then feed to next model?\n",
        "\n",
        "LSTM and GAN\n",
        "\n",
        "Use a pre-existing model as text are complex\n",
        "\n",
        "Todo:\n",
        "\n",
        "Fix Line Break \\r\\n in Articles column\n",
        "\n",
        "Task 1: Find articles that are similar, main idea is to use a web crawler and if the article is similar, input that article into phase 2\n",
        "\n",
        "* Percentage based output, treat it as a classification\n",
        "\n",
        "Task 2: Predict basic columns first such as date of event, state, district, date of report, villages, country, number of casualties(elephant/humans)"
      ]
    },
    {
      "cell_type": "code",
      "execution_count": 1,
      "metadata": {
        "colab": {
          "base_uri": "https://localhost:8080/"
        },
        "id": "9pKoc9OYypOo",
        "outputId": "7074ad44-3f5b-4d85-84a1-685ea5e49dd4"
      },
      "outputs": [],
      "source": [
        "import pandas as pd\n",
        "#import spacy_transformers\n",
        "import numpy as np\n",
        "#import tensorflow as tf\n",
        "#import tensorflow_hub as hub\n",
        "#import tensorflow_text as text  # Imports TF ops for preprocessing.\n",
        "import matplotlib.pyplot as plt\n",
        "import seaborn as sns\n",
        "import gc\n",
        "from sklearn.model_selection import train_test_split\n",
        "import nltk\n",
        "from nltk.collocations import *\n",
        "#print(\"Version: \", tf.__version__)\n",
        "#print(\"Eager mode: \", tf.executing_eagerly())\n",
        "#print(\"Hub version: \", hub.__version__)\n",
        "#print(\"GPU is\", \"available\" if tf.config.list_physical_devices('GPU') else \"NOT AVAILABLE\")\n"
      ]
    },
    {
      "cell_type": "markdown",
      "metadata": {
        "id": "DFEpIBb7E4IE"
      },
      "source": [
        "# Loading data and removing Nan's"
      ]
    },
    {
      "cell_type": "code",
      "execution_count": 3,
      "metadata": {
        "colab": {
          "base_uri": "https://localhost:8080/"
        },
        "id": "EBrpKXVCy8WY",
        "outputId": "e2464cac-0d5b-448a-997a-a237228392c5"
      },
      "outputs": [
        {
          "data": {
            "text/plain": [
              "Index(['Article  ID', 'Datefixed', 'Date (Event)', 'Time', 'Village/Place',\n",
              "       'Sub-District', 'Beat', 'Range', 'Division', 'District', 'State',\n",
              "       'Country', 'Latitude (DD)', 'Longitude (DD)', 'Herd', 'All male',\n",
              "       'Total', 'Alcohol', 'Captive?', 'Injured Male', 'Injured Female',\n",
              "       'Einjured', 'Killed Male', 'Killed Female', 'Edeath', 'Name', 'Age',\n",
              "       'Gender', 'Alcohol.1', 'Cause of Death/Injury', 'Accidental?',\n",
              "       'During HEC Encounter', 'Retaliatory', 'Poaching', 'Human Death/Injury',\n",
              "       'Attractant', 'Area (Forest, Ag, Village, Habitation, Urban)',\n",
              "       'Legal Electric Fence', 'Fence Broken', 'Elephant Proof Trenches ',\n",
              "       'Drive away Elephants ', 'Guns', 'Loud Sounds', 'Fine', 'Fine Amount',\n",
              "       'Jail Sentence', 'Other', 'Comments', 'Links', 'Source', 'Title',\n",
              "       'Date Published', 'Article', 'No. of Articles'],\n",
              "      dtype='object')"
            ]
          },
          "execution_count": 3,
          "metadata": {},
          "output_type": "execute_result"
        }
      ],
      "source": [
        "df = pd.read_csv(\"data/STE HEC - Master 10.0.2 - Elephant Death & Injury(1).csv\", sep=',')\n",
        "#df.to_excel(\"data.xlsx\")\n",
        "pd.set_option('max_colwidth', 400)\n",
        "df.columns"
      ]
    },
    {
      "cell_type": "code",
      "execution_count": 29,
      "metadata": {
        "colab": {
          "base_uri": "https://localhost:8080/"
        },
        "id": "VbcJAJT3q4OT",
        "outputId": "e77872cc-72ae-487e-e4b9-038d6f5ef93f"
      },
      "outputs": [
        {
          "data": {
            "text/plain": [
              "Article  ID                                        0\n",
              "Datefixed                                          0\n",
              "Date (Event)                                       0\n",
              "Time                                               0\n",
              "Village/Place                                      0\n",
              "Sub-District                                       0\n",
              "Beat                                               0\n",
              "Range                                              0\n",
              "Division                                           0\n",
              "District                                           0\n",
              "State                                              0\n",
              "Country                                            0\n",
              "Latitude (DD)                                      0\n",
              "Longitude (DD)                                     0\n",
              "Herd                                               0\n",
              "All male                                           0\n",
              "Total                                              0\n",
              "Alcohol                                            0\n",
              "Captive?                                           0\n",
              "Injured Male                                       0\n",
              "Injured Female                                     0\n",
              "Einjured                                           0\n",
              "Killed Male                                        0\n",
              "Killed Female                                      0\n",
              "Edeath                                             0\n",
              "Name                                               2\n",
              "Age                                                2\n",
              "Gender                                             2\n",
              "Alcohol.1                                          0\n",
              "Cause of Death/Injury                              0\n",
              "Accidental?                                        0\n",
              "During HEC Encounter                               0\n",
              "Retaliatory                                        0\n",
              "Poaching                                           0\n",
              "Human Death/Injury                                 0\n",
              "Attractant                                       399\n",
              "Area (Forest, Ag, Village, Habitation, Urban)      1\n",
              "Legal Electric Fence                               0\n",
              "Fence Broken                                       0\n",
              "Elephant Proof Trenches                            0\n",
              "Drive away Elephants                               0\n",
              "Guns                                               0\n",
              "Loud Sounds                                        0\n",
              "Fine                                               0\n",
              "Fine Amount                                        0\n",
              "Jail Sentence                                      0\n",
              "Other                                            778\n",
              "Comments                                           0\n",
              "Links                                              0\n",
              "Source                                             0\n",
              "Title                                              0\n",
              "Date Published                                     1\n",
              "Article                                            1\n",
              "No. of Articles                                    1\n",
              "dtype: int64"
            ]
          },
          "execution_count": 29,
          "metadata": {},
          "output_type": "execute_result"
        }
      ],
      "source": [
        "df.isnull().sum(axis = 0)"
      ]
    },
    {
      "cell_type": "code",
      "execution_count": 30,
      "metadata": {
        "id": "OktKGrAgrPBD"
      },
      "outputs": [],
      "source": [
        "df.dropna(subset=['Date Published', 'Article', 'No. of Articles', 'Area (Forest, Ag, Village, Habitation, Urban)'], inplace=True)"
      ]
    },
    {
      "cell_type": "code",
      "execution_count": 31,
      "metadata": {
        "colab": {
          "base_uri": "https://localhost:8080/"
        },
        "id": "o9CwhGu89Mao",
        "outputId": "75a696c6-fe18-4010-9cda-fcd07eb362ba"
      },
      "outputs": [
        {
          "data": {
            "text/plain": [
              "Article  ID                                       object\n",
              "Datefixed                                         object\n",
              "Date (Event)                                      object\n",
              "Time                                              object\n",
              "Village/Place                                     object\n",
              "Sub-District                                      object\n",
              "Beat                                              object\n",
              "Range                                             object\n",
              "Division                                          object\n",
              "District                                          object\n",
              "State                                             object\n",
              "Country                                           object\n",
              "Latitude (DD)                                     object\n",
              "Longitude (DD)                                    object\n",
              "Herd                                              object\n",
              "All male                                          object\n",
              "Total                                             object\n",
              "Alcohol                                           object\n",
              "Captive?                                          object\n",
              "Injured Male                                      object\n",
              "Injured Female                                    object\n",
              "Einjured                                          object\n",
              "Killed Male                                       object\n",
              "Killed Female                                     object\n",
              "Edeath                                            object\n",
              "Name                                              object\n",
              "Age                                               object\n",
              "Gender                                            object\n",
              "Alcohol.1                                         object\n",
              "Cause of Death/Injury                             object\n",
              "Accidental?                                        int64\n",
              "During HEC Encounter                               int64\n",
              "Retaliatory                                        int64\n",
              "Poaching                                           int64\n",
              "Human Death/Injury                                 int64\n",
              "Attractant                                        object\n",
              "Area (Forest, Ag, Village, Habitation, Urban)     object\n",
              "Legal Electric Fence                               int64\n",
              "Fence Broken                                       int64\n",
              "Elephant Proof Trenches                            int64\n",
              "Drive away Elephants                               int64\n",
              "Guns                                               int64\n",
              "Loud Sounds                                        int64\n",
              "Fine                                               int64\n",
              "Fine Amount                                       object\n",
              "Jail Sentence                                      int64\n",
              "Other                                             object\n",
              "Comments                                          object\n",
              "Links                                             object\n",
              "Source                                            object\n",
              "Title                                             object\n",
              "Date Published                                    object\n",
              "Article                                           object\n",
              "No. of Articles                                  float64\n",
              "dtype: object"
            ]
          },
          "execution_count": 31,
          "metadata": {},
          "output_type": "execute_result"
        }
      ],
      "source": [
        "df.dtypes"
      ]
    },
    {
      "cell_type": "markdown",
      "metadata": {
        "id": "yaqSGE1oqU9q"
      },
      "source": [
        "# Constructing training set to mimic data that scrapes from the internet\n",
        "\n",
        "Assuming that when article is scraped from the internet, only date of article published, the publisher, and the article is left.\n",
        "\n",
        "How to deal with line breaks(\\r\\n)"
      ]
    },
    {
      "cell_type": "code",
      "execution_count": 32,
      "metadata": {
        "colab": {
          "base_uri": "https://localhost:8080/"
        },
        "id": "XT8UHjVRm-EY",
        "outputId": "ad6e991e-0cd7-4813-c8df-e474cab7eae9"
      },
      "outputs": [
        {
          "data": {
            "text/plain": [
              "array(['20-01-2004', '27-01-2004', '29-01-2004', '27-02-2004',\n",
              "       '25-02-2004', '25-03-2004', '05-04-2004', '10-04-2004',\n",
              "       '24-05-2004', '19-09-2004', '28-10-2004', '08-11-2004',\n",
              "       '28-11-2004', '05-03-2005', '17-03-2005', '15/2/2005',\n",
              "       '13-05-2005', '27-06-2005', '06-11-2005', '09-11-2005',\n",
              "       '01-12-2005', '05-12-2005', '13-12-2005', '02-01-2006',\n",
              "       '12-01-2006', '01-03-2006', '05-03-2006', '12-03-2006',\n",
              "       '14-03-2006', '28-03-2006', '16-04-2006', '09-05-2006',\n",
              "       '18-05-2006', '12-06-2006', '22-09-2006', '06-10-2006',\n",
              "       '09-10-2006', '13-10-2006', '18-10-2006', '02-11-2006',\n",
              "       '13-11-2006', '16-12-2006', '14-03-2007', '27-06-2007',\n",
              "       '11-07-2007', '12-07-2007', '20-07-2007', '01-08-2007',\n",
              "       '26-07-2007', '19-08-2007', '01-09-2007', '19-09-2007',\n",
              "       '16-10-2007', '23-10-2007', '25-11-2007', '04-01-2008',\n",
              "       '11-01-2008', '01-05-2008', '09-05-2008', '02-06-2008',\n",
              "       '13-06-2008', '23-06-2008', '20-06-2008', '22-06-2008',\n",
              "       '24-06-2008', '19-07-2008', '23-07-2008', '29-07-2008',\n",
              "       '12-01-2008', '14-10-2008', '26-01-2009', '22-02-2006',\n",
              "       '26-02-2009', '27-02-2009', '09-03-2009', '14-03-2009',\n",
              "       '08-05-2009', '27-05-2009', '02-06-2009', '07-06-2009',\n",
              "       '11-06-2009', '15-06-2009', '16-06-2009', '09-07-2009',\n",
              "       '10-07-2009', '11-08-2009', '16-08-2009', '26-08-2009',\n",
              "       '14-09-2009', '19-09-2009', '02-10-2009', '08-10-2009',\n",
              "       '11-10-2009', '23-10-2009', '27-10-2009', '22-11-2009',\n",
              "       '12-11-2009', '28-11-2009', '30-11-2009', '31-12-2009',\n",
              "       '01-01-2009', '06-01-2010', '04-03-2010', '15-03-2010',\n",
              "       '24-03-2010', '29-03-2010', '09-04-2010', '21-04-2010',\n",
              "       '23-04-2010', '25-04-2010', '09-05-2010', '03-05-2010',\n",
              "       '29-05-2010', '17-07-2010', '18-07-2010', '01-08-2010',\n",
              "       '02-08-2010', '03-08-2010', '13-08-2010', '02-09-2010',\n",
              "       '25-09-2010', '27-09-2010', '07-10-2010', '09-10-2010',\n",
              "       '14-10-2010', '12-10-2010', '28-10-2010', '24-10-2010',\n",
              "       '26-10-2010', '27-10-2010', '09-11-2010', '21-12-2010',\n",
              "       '24-11-2010', '28-11-2010', '30-11-2010', '01-12-2010',\n",
              "       '08-12-2010', '04-12-2010', '16-12-2010', '17-12-2010',\n",
              "       '22-12-2010', '23-12-2010', '03-01-2011', '07-01-2011',\n",
              "       '06-01-2011', '12-01-2011', '13-01-2011', '16-01-2011',\n",
              "       '17-01-2011', '26-01-2011', '28-01-2011', '27-01-2011',\n",
              "       '08-02-2011', '30-01-2011', '02-02-2011', '14-02-2011',\n",
              "       '27-03-2011', '2011-04-04', '02-04-2011', '05-04-2011',\n",
              "       '15-04-2011', '26-04-2011', '05-05-2011', '11-05-2011',\n",
              "       '31-05-2011', '20-06-2011', '08-07-2011', '26-07-2011',\n",
              "       '07-08-2011', '09-08-2011', '19-08-2011', '24-11-2011',\n",
              "       '15-09-2011', '17-09-2011', '25-09-2011', '06-10-2011',\n",
              "       '18-10-2011', '19-10-2011', '06-11-2011', '07-12-2011',\n",
              "       '19-11-2011', '15-12-2011', '22-12-2011', '23-12-2011',\n",
              "       '05-01-2012', '15-01-2011', '14-01-2012', '30-01-2012',\n",
              "       '13-02-2012', '2012-06-13', '12-04-2012', '2012-05-16',\n",
              "       '2012-05-19', '2012-05-17', '07-05-2012', '2012-06-01',\n",
              "       '2012-06-07', '2012-06-08', '2012-06-19', '2012-06-22',\n",
              "       '23-06-2012', '30-10-2012', '19-08-2012', '14-09-2012',\n",
              "       '2012-09-26', '08-10-2012', '12-10-2012', '22-10-2012',\n",
              "       '12-11-2012', '19-11-2012', '29-11-2012', '06-12-2012',\n",
              "       '04-12-2012', '2013-01-18', '2013-01-29', '2013-01-30',\n",
              "       '2013-02-12', '2013-02-25', '2013-02-15', '2013-03-13',\n",
              "       '2013-04-15', '2013-04-18', '2013-05-04', '2013-05-28',\n",
              "       '2013-06-03', '2013-06-05', '2013-06-08', '2013-06-14',\n",
              "       '2013-06-29', '2013-07-09', '2013-07-15', '2013-07-26',\n",
              "       '2013-08-23', '2013-09-06', '2013-09-13', '2013-09-15',\n",
              "       '2013-10-11', '2013-10-21', '2013-10-22', '2013-11-12',\n",
              "       '2013-11-23', '2013-11-26', '2013-11-28', '2013-12-26',\n",
              "       '2013-12-27', '09-01-2014', '03-01-2014', '04-02-2014',\n",
              "       '25-01-2014', '01-02-2014', '03-02-2014', '15-04-2014',\n",
              "       '28-02-2014', '27-02-2014', '19-03-2014', '09-03-2014',\n",
              "       '13-03-2014', '23-03-2014', '08-04-2014', '18-04-2014',\n",
              "       '20-04-2014', '22-05-2014', '11-05-2014', '10-05-2014',\n",
              "       '03-06-2014', '19-06-2014', '18-07-2014', '31-07-2014',\n",
              "       '02-08-2014', '08-08-2014', '18-08-2014', '20-08-2014',\n",
              "       '08-09-2014', '19-09-2014', '08-10-2014', '18-10-2014',\n",
              "       '22-10-2014', '02-11-2014', '01-11-2014', '20-11-2014',\n",
              "       '21-11-2014', '27-11-2014', '24-11-2014', '29-11-2014',\n",
              "       '2015-01-05', '2015-09-20', '2015-01-31', '2015-02-02',\n",
              "       '2015-02-06', '2015-02-15', '2015-11-14', '2015-03-22',\n",
              "       '2015-05-23', '2015-04-14', '2015-04-13', '2015-04-16',\n",
              "       '2015-05-20', '2015-04-21', '2015-05-25', '2015-06-14',\n",
              "       '2015-06-18', '2015-06-20', '2015-06-23', '2015-07-24',\n",
              "       '2015-07-03', '2015-07-04', '2015-07-05', '2015-07-07',\n",
              "       '2015-07-15', '2015-07-17', '2015-07-22', '2015-08-13',\n",
              "       '2015-09-03', '2015-09-19', '2015-09-15', '2015-09-13',\n",
              "       '2015-09-22', '2015-10-07', '2015-10-12', '2015-10-19',\n",
              "       '2015-10-15', '2015-10-22', '2015-10-25', '2015-11-23',\n",
              "       '2015-11-04', '2015-11-10', '2015-11-12', '2015-11-18',\n",
              "       '2015-11-21', '2015-11-22', '2015-11-26', '2015-11-28',\n",
              "       '2015-11-29', '2015-11-30', '2015-12-04', '2015-12-10',\n",
              "       '2015-12-14', '2015-12-18', '2015-12-28', '03-01-2016',\n",
              "       '06-03-2016', '10-01-2016', '19-01-2016', '20-01-2016',\n",
              "       '24-01-2016', '31-01-2016', '29-01-2016', '07-02-2016',\n",
              "       '02-02-2016', '03-02-2016', '10-02-2016', '15-02-2016',\n",
              "       '16-02-2016', '18-02-2016', '28-02-2016', '03-03-2016',\n",
              "       '01-03-2016', '09-03-2016', '11-03-2016', '21-03-2016',\n",
              "       '22-03-2016', '25-03-2016', '27-03-2016', '07-04-2016',\n",
              "       '11-04-2016', '16-04-2016', '20-05-2016', '22-05-2016',\n",
              "       '29-05-2016', '30-05-2016', '06-06-2016', '07-06-2016',\n",
              "       '11-06-2016', '15-06-2016', '12-09-2016', '19-06-2016',\n",
              "       '21-06-2016', '26-06-2016', '05-07-2016', '06-07-2016',\n",
              "       '12-07-2016', '14-07-2016', '19-07-2016', '25-07-2016',\n",
              "       '26-07-2016', '07-12-2016', '10-08-2016', '18-08-2016',\n",
              "       '21-08-2016', '24-08-2016', '26-08-2016', '31-08-2016',\n",
              "       '05-09-2016', '16-09-2016', '24-09-2016', '18-09-2016',\n",
              "       '23-09-2016', '09-10-2016', '13-10-2016', '28-10-2016',\n",
              "       '05-11-2016', '09-11-2016', '22-11-2016', '23-11-2016',\n",
              "       '28-11-2016', '30-11-2016', '13-07-2016', '17-12-2016',\n",
              "       '24-12-2016', '2017-01-01', '2017-02-06', '2017-01-03',\n",
              "       '2017-01-05', '2017-02-05', '2017-01-07', '2017-01-11',\n",
              "       '2017-01-17', '2017-01-19', '2017-01-18', '2017-01-26',\n",
              "       '2017-01-27', '2017-01-29', '2017-01-31', '2017-02-04',\n",
              "       '2017-02-09', '2017-02-15', '2017-03-23', '2017-02-24',\n",
              "       '2017-02-25', '2017-03-04', '2017-03-05', '2017-03-09',\n",
              "       '2017-03-14', '2017-03-18', '2017-03-21', '2017-03-22',\n",
              "       '2017-03-31', '2017-04-01', '2017-04-15', '2017-04-07',\n",
              "       '2017-04-12', '2017-04-22', '2017-04-11', '2017-04-13',\n",
              "       '2017-04-16', '2017-04-23', '2017-05-11', '2017-05-02',\n",
              "       '2017-05-03', '2017-05-09', '2017-05-16', '2017-05-05',\n",
              "       '2017-05-07', '2017-05-17', '2017-05-19', '2017-05-20',\n",
              "       '2017-05-21', '2017-05-22', '2017-05-31', '2017-05-25',\n",
              "       '25-05-2017', '2017-05-28', '2017-04-30', '2017-05-30',\n",
              "       '2017-06-03', '2017-06-07', '2017-06-08', '2017-06-09',\n",
              "       '2017-06-10', '2017-06-14', '2017-06-16', '2017-06-21',\n",
              "       '2017-06-19', '2017-06-23', '2017-06-27', '08-07-2017',\n",
              "       '30-07-2017', '22-07-2017', '25-07-2017', '29-07-2017',\n",
              "       '13-08-2017', '08-08-2017', '05-08-2017', '07-08-2017',\n",
              "       '06-08-2017', '10-08-2017', '12-08-2017', '14-08-2017',\n",
              "       '15-08-2007', '18-08-2017', '19-08-2017', '03-09-2017',\n",
              "       '20-08-2017', '23-08-2017', '24-08-2017', '26-08-2017',\n",
              "       '25-08-2017', '27-08-2017', '29-08-2017', '31-08-2017',\n",
              "       '01-09-2017', '02-09-2017', '06-09-2017', '08-09-2017',\n",
              "       '07-09-2017', '09-09-2017', '18-09-2017', '14-09-2017',\n",
              "       '16-09-2017', '17-09-2017', '26-09-2017', '21-09-2017',\n",
              "       '20-09-2017', '30-09-2017', '29-09-2017', '07-10-2017',\n",
              "       '09-10-2017', '12-10-2017', '11-10-2017', '13-10-2017',\n",
              "       '15-10-2017', '17-10-2017', '16-10-2017', '18-10-2017',\n",
              "       '19-10-2017', '24-10-2017', '22-10-2017', '23-10-2017',\n",
              "       '25-10-2017', '26-10-2017', '27-10-2017', '29-10-2017',\n",
              "       '05-11-2017', '01-11-2017', '10-11-2017', '03-11-2017',\n",
              "       '07-11-2017', '09-11-2017', '14-11-2017', '13-11-2017',\n",
              "       '15-11-2017', '18-11-2017', '16-11-2017', '17-11-2017',\n",
              "       '21-11-2017', '26-11-2017', '29-11-2017', '25-11-2017',\n",
              "       '27-11-2017', '12-12-2017', '05-12-2017', '02-12-2017',\n",
              "       '03-12-2017', '09-12-2017', '10-12-2017', '19-12-2017',\n",
              "       '13-12-2017', '27-12-2017', '22-12-2017', '03-01-2018',\n",
              "       '10-01-2018', '11-01-2018', '15-01-2018', '12-01-2018',\n",
              "       '26-01-2018', '07-02-2018', '08-02-2018', '10-02-2018',\n",
              "       '12-10-2018', '14-02-2018', '28-02-2018', '21-02-2018',\n",
              "       '22-02-2018', '27-02-2018', '19-03-2018', '14-03-2018',\n",
              "       '29-03-2018', '09-04-2018', '16-04-2018', '20-04-2018',\n",
              "       '02-05-2018', '04-05-2018', '06-05-2018', '19-05-2018',\n",
              "       '21-06-2018', '31-05-2018', '03-06-2018', '04-06-2018',\n",
              "       '19-06-2018', '11-06-2018', '13-06-2018', '14-06-2018',\n",
              "       '24-06-2018', '08-07-2018', '13-07-2018', '15-07-2018',\n",
              "       '17-07-2018', '24-07-2018', '26-07-2018', '28-07-2018',\n",
              "       '11-08-2018', '22-08-2018', '13-08-2018', '14-08-2018',\n",
              "       '20-08-2018', '29-08-2018', '25-08-2018', '30-08-2018',\n",
              "       '02-09-2018', '03-09-2018', '05-09-2018', '07-09-2018',\n",
              "       '15-09-2018', '17-09-2018', '19-09-2018', '20-09-2018',\n",
              "       '24-09-2018', '25-09-2018', '27-09-2018', '2018-10-02',\n",
              "       '2018-10-01', '2018-10-06', '2018-10-05', '2018-10-07',\n",
              "       '2018-10-08', '2018-10-11', '2018-10-17', '2018-10-25',\n",
              "       '2018-11-04', '2018-10-27', '2018-10-28', '2018-11-02',\n",
              "       '2018-11-09', '2018-12-01', '2018-11-13', '2018-11-14',\n",
              "       '2018-11-21', '2018-11-15', '2018-11-18', '2018-11-17',\n",
              "       '2018-11-16', '2018-12-17', '2018-11-24', '2018-11-28',\n",
              "       '2018-11-25', '2018-11-27', '2018-12-02', '2018-11-30',\n",
              "       '2018-12-03', '2018-12-04', '2018-12-07', '2018-12-10',\n",
              "       '2018-12-11', '2018-12-13', '2018-12-14', '2018-12-15',\n",
              "       '2018-12-16', '2018-12-19', '2018-12-20', '2018-12-21',\n",
              "       '2018-12-22', '2018-12-24', '2018-12-25', '2018-12-26',\n",
              "       '2018-12-27', '2018-12-28', '2013-05-21', '2013-04-09',\n",
              "       '28-01-2009'], dtype=object)"
            ]
          },
          "execution_count": 32,
          "metadata": {},
          "output_type": "execute_result"
        }
      ],
      "source": [
        "# Make sure dates are of same structure and change data type\n",
        "df['Date Published'].unique()"
      ]
    },
    {
      "cell_type": "code",
      "execution_count": 33,
      "metadata": {
        "colab": {
          "base_uri": "https://localhost:8080/"
        },
        "id": "yTFGuDF_paxN",
        "outputId": "78f187e4-12f5-494d-be18-7a03b58fd101"
      },
      "outputs": [
        {
          "data": {
            "text/plain": [
              "array(['Ananoya', 'The Hindu ', 'The Indonesian National News Agency',\n",
              "       'Wildlife Protection Society of India Press Release', 'The Hindu',\n",
              "       'Orissa.net', 'NDTV.com', 'Agence France Presse', 'Newkerala.com',\n",
              "       'Independent Online', 'Jakarta Post', 'Terra Daily',\n",
              "       'Deepika Global', 'Webindia123', 'The Statesman',\n",
              "       'Webindia123.com', 'Newindpress.com', 'The Jakarta Post',\n",
              "       'Reuters', 'Bahrain News Agency', 'Newindpress',\n",
              "       'New Straits Times', 'Colombo Page', 'Chennai Online', 'Enews.com',\n",
              "       'Telugu Portal ', 'IANS', 'DNA', 'News.com', 'New Kerala.com',\n",
              "       'Anandabazar', 'NEWSPost India', 'Fox News', 'Associated Press',\n",
              "       'Statesman News Service', 'The Himalayan Times',\n",
              "       'The Associated Press', 'Thaindian News ', 'Times of India',\n",
              "       'Express News Service', 'The Telegraph', 'Meri News', 'DNA ',\n",
              "       'The Economic Times', 'Asia-Pacific News', 'Asia News Network',\n",
              "       'Sri Lanka Daily News', 'VietnamNet', 'Little About',\n",
              "       'Daily India', 'Press Trust of India', 'DNA India', 'Trak.in',\n",
              "       'Indian Express', 'Vientiane Times ', 'OneIndia News', 'Sify News',\n",
              "       'Agence France Press', 'THanh Nien Daily', 'Jakarta Globe',\n",
              "       'Thanh Nien News', 'India Blooms News Service', 'Daily Mirror',\n",
              "       'NDTV', 'Blooms News Service ', 'The Pioneer', 'Bangkok Post',\n",
              "       'Press Trust of India ', 'Vietnam News Agency', 'IBN Live news',\n",
              "       'NewsFirst.Lk', 'Sunday Times', ' Xinhua      ', 'Newfirst.lk',\n",
              "       'ColomboPage', 'Indlawnews.com', 'Deccan Herald', 'One India News',\n",
              "       'BBC News', 'Zeenews.com', 'The Straits Times', 'IBN Live',\n",
              "       'Indianexpress.com', 'TImes of India', 'Newstrack India',\n",
              "       'The Times of India', 'MSN News', 'India TV News', 'Zee News',\n",
              "       'Phys.org', 'Times of India ', 'The Nation', 'NTD Television',\n",
              "       'France 24', 'Business Standard', 'The Jakarta Globe',\n",
              "       'New Indian Express', 'The New Indian Express', 'Zee News ',\n",
              "       'Express News Service ', 'Deccan Herald ', 'Mongabay.com',\n",
              "       'Emirates 24/7', 'News Track India ', 'Shanghai Daily ',\n",
              "       'Business Standards ', 'Bangkok Post ', 'The Times of India ',\n",
              "       'ABPLive', 'The Rakyat Post', 'Bangalore Mirror',\n",
              "       'Sydney Morning Herald', 'Cambodia Daily', 'FirstPost',\n",
              "       'The Himalayan', 'Deccan Chronicle', 'Hindustan Times',\n",
              "       'Orissa Post', 'NYOOOZ Kolkata Sun', 'Mumbai Mirror', 'NYOOOZ',\n",
              "       'Xinhua', 'Ani news', 'Sakshi Post', 'Tuoitrenews', 'Hiru News',\n",
              "       'NT News', 'Yahoo', 'Odisha Sun Times Bureau', 'Pragativadi',\n",
              "       'ThaiVisa News', 'Odisha Sun Times', 'Express', 'News Today',\n",
              "       'India.com', 'News First', 'New Indian Express ', 'Avenue Mail ',\n",
              "       'Prothom Alo', 'Prameya News7', 'New York Times', 'Deccan Herlad',\n",
              "       'Daily Mail', 'India Today', 'Himalayan Times', 'Gulf Today',\n",
              "       'The Echo of India', 'India Live Today ', 'Mathrubhumi ',\n",
              "       'Clean Malaysia', 'Indileak', 'Huffington Post', 'The Sentinel ',\n",
              "       'The Star', 'Pattaya Mail', 'The Sentinel', 'My Republica',\n",
              "       'City Today', 'India', 'Echo of India', '11alive', 'The Big Story',\n",
              "       'Eleven Myanmar', 'Myanmar Times', 'Daily Pioneer',\n",
              "       'Shillong Times', 'International Business Times', 'Khmer Times',\n",
              "       'Web India 123', 'Eleven', 'Kaumudi Global', 'Coconuts Yangon',\n",
              "       'Times  of India', 'The Shillong Times', 'The Sun Daily',\n",
              "       'Assam Tribune', 'Tribune India', 'Outlook', 'Thai PBS',\n",
              "       'Decan Chronicle', 'Free Malaysia Today', 'Odisha TV',\n",
              "       'The Daily Star', 'WebIndia', 'The Weekend Leader',\n",
              "       'Deutsche Presse Agentur ', 'Outlook India', 'Coconuts Bangkok',\n",
              "       'Odisha Post', 'Northeast India', 'Metro', 'Daily Express',\n",
              "       'Sentinel Assam', 'Dhaka Tribune', 'The Assam Tribune',\n",
              "       'The Daily Mirror', 'Malay Mail', 'Phnom Penh Post',\n",
              "       'The Daily News', 'Mongabay', 'The Telegraph India',\n",
              "       'Times of india', 'Agence France-Presse',\n",
              "       'Pragativadi News  Services', 'Kalinga TV', 'The Daily pioneer',\n",
              "       'The Myanmar Times', 'The Press Trust of India', ' News First',\n",
              "       'The Star Online', 'The Star of Mysore', ' Northeast Now', 'AFP',\n",
              "       'Newsweek', 'The Borneo Post', 'The Bangalore Mirror',\n",
              "       'Pragativadi News Service', 'The New Straits Times', 'News 18',\n",
              "       'The United News of India', 'China NewsAsia', 'Adaderana',\n",
              "       'The Orissa Post', 'The Hitavadi', 'News 1st', 'Northeast Now',\n",
              "       'Newsmen', 'The Daily Pioneer', 'The News Minute', 'Odishabytes',\n",
              "       'The Bangkok Post', 'The Odisha Sun Times', 'Channel News Asia',\n",
              "       'The Hitavada', 'The Independent', 'Adaderana.lk',\n",
              "       'Northeast News Now', 'The Dhaka Tribune', 'The Deccan Herald',\n",
              "       'Deccan Chronicle '], dtype=object)"
            ]
          },
          "execution_count": 33,
          "metadata": {},
          "output_type": "execute_result"
        }
      ],
      "source": [
        "# Make sure Source are of same structure, and remove redundancy\n",
        "df['Source'].unique()"
      ]
    },
    {
      "cell_type": "code",
      "execution_count": 34,
      "metadata": {
        "colab": {
          "base_uri": "https://localhost:8080/"
        },
        "id": "F_tWREF96d-e",
        "outputId": "7747f006-5fec-4b73-b740-926c49ce437a"
      },
      "outputs": [
        {
          "name": "stderr",
          "output_type": "stream",
          "text": [
            "/var/folders/g6/8qf633_j27j4pw_gqbrz6dbh0000gn/T/ipykernel_23378/2866659192.py:2: SettingWithCopyWarning: \n",
            "A value is trying to be set on a copy of a slice from a DataFrame.\n",
            "Try using .loc[row_indexer,col_indexer] = value instead\n",
            "\n",
            "See the caveats in the documentation: https://pandas.pydata.org/pandas-docs/stable/user_guide/indexing.html#returning-a-view-versus-a-copy\n",
            "  train['Date Published'] = train['Date Published'].str.replace(',','-')\n",
            "/var/folders/g6/8qf633_j27j4pw_gqbrz6dbh0000gn/T/ipykernel_23378/2866659192.py:3: SettingWithCopyWarning: \n",
            "A value is trying to be set on a copy of a slice from a DataFrame.\n",
            "Try using .loc[row_indexer,col_indexer] = value instead\n",
            "\n",
            "See the caveats in the documentation: https://pandas.pydata.org/pandas-docs/stable/user_guide/indexing.html#returning-a-view-versus-a-copy\n",
            "  train['Date Published'] =  pd.to_datetime(train['Date Published'], format=\"%d-%m-%Y\", errors=\"coerce\").fillna(pd.to_datetime(train['Date Published'], format=\"%Y-%m-%d\", errors=\"coerce\"))\n",
            "/var/folders/g6/8qf633_j27j4pw_gqbrz6dbh0000gn/T/ipykernel_23378/2866659192.py:4: SettingWithCopyWarning: \n",
            "A value is trying to be set on a copy of a slice from a DataFrame.\n",
            "Try using .loc[row_indexer,col_indexer] = value instead\n",
            "\n",
            "See the caveats in the documentation: https://pandas.pydata.org/pandas-docs/stable/user_guide/indexing.html#returning-a-view-versus-a-copy\n",
            "  train['Date Published'] = train['Date Published'].dt.date\n",
            "/var/folders/g6/8qf633_j27j4pw_gqbrz6dbh0000gn/T/ipykernel_23378/2866659192.py:5: SettingWithCopyWarning: \n",
            "A value is trying to be set on a copy of a slice from a DataFrame.\n",
            "Try using .loc[row_indexer,col_indexer] = value instead\n",
            "\n",
            "See the caveats in the documentation: https://pandas.pydata.org/pandas-docs/stable/user_guide/indexing.html#returning-a-view-versus-a-copy\n",
            "  train['Source'] = train['Source'].str.strip()\n",
            "/var/folders/g6/8qf633_j27j4pw_gqbrz6dbh0000gn/T/ipykernel_23378/2866659192.py:6: SettingWithCopyWarning: \n",
            "A value is trying to be set on a copy of a slice from a DataFrame.\n",
            "Try using .loc[row_indexer,col_indexer] = value instead\n",
            "\n",
            "See the caveats in the documentation: https://pandas.pydata.org/pandas-docs/stable/user_guide/indexing.html#returning-a-view-versus-a-copy\n",
            "  train['Source'] = train['Source'].str.upper()\n",
            "/var/folders/g6/8qf633_j27j4pw_gqbrz6dbh0000gn/T/ipykernel_23378/2866659192.py:7: SettingWithCopyWarning: \n",
            "A value is trying to be set on a copy of a slice from a DataFrame.\n",
            "Try using .loc[row_indexer,col_indexer] = value instead\n",
            "\n",
            "See the caveats in the documentation: https://pandas.pydata.org/pandas-docs/stable/user_guide/indexing.html#returning-a-view-versus-a-copy\n",
            "  train['Article'] = train['Article'].replace('\\r','')\n"
          ]
        }
      ],
      "source": [
        "train = df[['Source', 'Title','Date Published', 'Article']]\n",
        "train['Date Published'] = train['Date Published'].str.replace(',','-')\n",
        "train['Date Published'] =  pd.to_datetime(train['Date Published'], format=\"%d-%m-%Y\", errors=\"coerce\").fillna(pd.to_datetime(train['Date Published'], format=\"%Y-%m-%d\", errors=\"coerce\"))\n",
        "train['Date Published'] = train['Date Published'].dt.date\n",
        "train['Source'] = train['Source'].str.strip()\n",
        "train['Source'] = train['Source'].str.upper()\n",
        "train['Article'] = train['Article'].replace('\\r','')"
      ]
    },
    {
      "cell_type": "code",
      "execution_count": 35,
      "metadata": {
        "colab": {
          "base_uri": "https://localhost:8080/"
        },
        "id": "3hzX7mClpzrH",
        "outputId": "10e8e29e-155b-4df3-962e-4435746ef3e3"
      },
      "outputs": [
        {
          "data": {
            "text/plain": [
              "array(['ANANOYA', 'THE HINDU', 'THE INDONESIAN NATIONAL NEWS AGENCY',\n",
              "       'WILDLIFE PROTECTION SOCIETY OF INDIA PRESS RELEASE', 'ORISSA.NET',\n",
              "       'NDTV.COM', 'AGENCE FRANCE PRESSE', 'NEWKERALA.COM',\n",
              "       'INDEPENDENT ONLINE', 'JAKARTA POST', 'TERRA DAILY',\n",
              "       'DEEPIKA GLOBAL', 'WEBINDIA123', 'THE STATESMAN',\n",
              "       'WEBINDIA123.COM', 'NEWINDPRESS.COM', 'THE JAKARTA POST',\n",
              "       'REUTERS', 'BAHRAIN NEWS AGENCY', 'NEWINDPRESS',\n",
              "       'NEW STRAITS TIMES', 'COLOMBO PAGE', 'CHENNAI ONLINE', 'ENEWS.COM',\n",
              "       'TELUGU PORTAL', 'IANS', 'DNA', 'NEWS.COM', 'NEW KERALA.COM',\n",
              "       'ANANDABAZAR', 'NEWSPOST INDIA', 'FOX NEWS', 'ASSOCIATED PRESS',\n",
              "       'STATESMAN NEWS SERVICE', 'THE HIMALAYAN TIMES',\n",
              "       'THE ASSOCIATED PRESS', 'THAINDIAN NEWS', 'TIMES OF INDIA',\n",
              "       'EXPRESS NEWS SERVICE', 'THE TELEGRAPH', 'MERI NEWS',\n",
              "       'THE ECONOMIC TIMES', 'ASIA-PACIFIC NEWS', 'ASIA NEWS NETWORK',\n",
              "       'SRI LANKA DAILY NEWS', 'VIETNAMNET', 'LITTLE ABOUT',\n",
              "       'DAILY INDIA', 'PRESS TRUST OF INDIA', 'DNA INDIA', 'TRAK.IN',\n",
              "       'INDIAN EXPRESS', 'VIENTIANE TIMES', 'ONEINDIA NEWS', 'SIFY NEWS',\n",
              "       'AGENCE FRANCE PRESS', 'THANH NIEN DAILY', 'JAKARTA GLOBE',\n",
              "       'THANH NIEN NEWS', 'INDIA BLOOMS NEWS SERVICE', 'DAILY MIRROR',\n",
              "       'NDTV', 'BLOOMS NEWS SERVICE', 'THE PIONEER', 'BANGKOK POST',\n",
              "       'VIETNAM NEWS AGENCY', 'IBN LIVE NEWS', 'NEWSFIRST.LK',\n",
              "       'SUNDAY TIMES', 'XINHUA', 'NEWFIRST.LK', 'COLOMBOPAGE',\n",
              "       'INDLAWNEWS.COM', 'DECCAN HERALD', 'ONE INDIA NEWS', 'BBC NEWS',\n",
              "       'ZEENEWS.COM', 'THE STRAITS TIMES', 'IBN LIVE',\n",
              "       'INDIANEXPRESS.COM', 'NEWSTRACK INDIA', 'THE TIMES OF INDIA',\n",
              "       'MSN NEWS', 'INDIA TV NEWS', 'ZEE NEWS', 'PHYS.ORG', 'THE NATION',\n",
              "       'NTD TELEVISION', 'FRANCE 24', 'BUSINESS STANDARD',\n",
              "       'THE JAKARTA GLOBE', 'NEW INDIAN EXPRESS',\n",
              "       'THE NEW INDIAN EXPRESS', 'MONGABAY.COM', 'EMIRATES 24/7',\n",
              "       'NEWS TRACK INDIA', 'SHANGHAI DAILY', 'BUSINESS STANDARDS',\n",
              "       'ABPLIVE', 'THE RAKYAT POST', 'BANGALORE MIRROR',\n",
              "       'SYDNEY MORNING HERALD', 'CAMBODIA DAILY', 'FIRSTPOST',\n",
              "       'THE HIMALAYAN', 'DECCAN CHRONICLE', 'HINDUSTAN TIMES',\n",
              "       'ORISSA POST', 'NYOOOZ KOLKATA SUN', 'MUMBAI MIRROR', 'NYOOOZ',\n",
              "       'ANI NEWS', 'SAKSHI POST', 'TUOITRENEWS', 'HIRU NEWS', 'NT NEWS',\n",
              "       'YAHOO', 'ODISHA SUN TIMES BUREAU', 'PRAGATIVADI', 'THAIVISA NEWS',\n",
              "       'ODISHA SUN TIMES', 'EXPRESS', 'NEWS TODAY', 'INDIA.COM',\n",
              "       'NEWS FIRST', 'AVENUE MAIL', 'PROTHOM ALO', 'PRAMEYA NEWS7',\n",
              "       'NEW YORK TIMES', 'DECCAN HERLAD', 'DAILY MAIL', 'INDIA TODAY',\n",
              "       'HIMALAYAN TIMES', 'GULF TODAY', 'THE ECHO OF INDIA',\n",
              "       'INDIA LIVE TODAY', 'MATHRUBHUMI', 'CLEAN MALAYSIA', 'INDILEAK',\n",
              "       'HUFFINGTON POST', 'THE SENTINEL', 'THE STAR', 'PATTAYA MAIL',\n",
              "       'MY REPUBLICA', 'CITY TODAY', 'INDIA', 'ECHO OF INDIA', '11ALIVE',\n",
              "       'THE BIG STORY', 'ELEVEN MYANMAR', 'MYANMAR TIMES',\n",
              "       'DAILY PIONEER', 'SHILLONG TIMES', 'INTERNATIONAL BUSINESS TIMES',\n",
              "       'KHMER TIMES', 'WEB INDIA 123', 'ELEVEN', 'KAUMUDI GLOBAL',\n",
              "       'COCONUTS YANGON', 'TIMES  OF INDIA', 'THE SHILLONG TIMES',\n",
              "       'THE SUN DAILY', 'ASSAM TRIBUNE', 'TRIBUNE INDIA', 'OUTLOOK',\n",
              "       'THAI PBS', 'DECAN CHRONICLE', 'FREE MALAYSIA TODAY', 'ODISHA TV',\n",
              "       'THE DAILY STAR', 'WEBINDIA', 'THE WEEKEND LEADER',\n",
              "       'DEUTSCHE PRESSE AGENTUR', 'OUTLOOK INDIA', 'COCONUTS BANGKOK',\n",
              "       'ODISHA POST', 'NORTHEAST INDIA', 'METRO', 'DAILY EXPRESS',\n",
              "       'SENTINEL ASSAM', 'DHAKA TRIBUNE', 'THE ASSAM TRIBUNE',\n",
              "       'THE DAILY MIRROR', 'MALAY MAIL', 'PHNOM PENH POST',\n",
              "       'THE DAILY NEWS', 'MONGABAY', 'THE TELEGRAPH INDIA',\n",
              "       'AGENCE FRANCE-PRESSE', 'PRAGATIVADI NEWS  SERVICES', 'KALINGA TV',\n",
              "       'THE DAILY PIONEER', 'THE MYANMAR TIMES',\n",
              "       'THE PRESS TRUST OF INDIA', 'THE STAR ONLINE',\n",
              "       'THE STAR OF MYSORE', 'NORTHEAST NOW', 'AFP', 'NEWSWEEK',\n",
              "       'THE BORNEO POST', 'THE BANGALORE MIRROR',\n",
              "       'PRAGATIVADI NEWS SERVICE', 'THE NEW STRAITS TIMES', 'NEWS 18',\n",
              "       'THE UNITED NEWS OF INDIA', 'CHINA NEWSASIA', 'ADADERANA',\n",
              "       'THE ORISSA POST', 'THE HITAVADI', 'NEWS 1ST', 'NEWSMEN',\n",
              "       'THE NEWS MINUTE', 'ODISHABYTES', 'THE BANGKOK POST',\n",
              "       'THE ODISHA SUN TIMES', 'CHANNEL NEWS ASIA', 'THE HITAVADA',\n",
              "       'THE INDEPENDENT', 'ADADERANA.LK', 'NORTHEAST NEWS NOW',\n",
              "       'THE DHAKA TRIBUNE', 'THE DECCAN HERALD'], dtype=object)"
            ]
          },
          "execution_count": 35,
          "metadata": {},
          "output_type": "execute_result"
        }
      ],
      "source": [
        "train['Source'].unique()"
      ]
    },
    {
      "cell_type": "code",
      "execution_count": 36,
      "metadata": {
        "colab": {
          "base_uri": "https://localhost:8080/"
        },
        "id": "z9yMY5DyBgf4",
        "outputId": "b40a913a-63d8-4c47-91fd-a73d4d15aa29"
      },
      "outputs": [
        {
          "data": {
            "text/plain": [
              "0      2004-01-20\n",
              "1      2004-01-27\n",
              "2      2004-01-27\n",
              "3      2004-01-29\n",
              "4      2004-01-29\n",
              "          ...    \n",
              "830    2018-12-28\n",
              "831    2013-05-21\n",
              "832    2013-04-09\n",
              "833    2009-01-28\n",
              "834    2009-01-28\n",
              "Name: Date Published, Length: 833, dtype: object"
            ]
          },
          "execution_count": 36,
          "metadata": {},
          "output_type": "execute_result"
        }
      ],
      "source": [
        "train['Date Published']"
      ]
    },
    {
      "cell_type": "code",
      "execution_count": 37,
      "metadata": {
        "colab": {
          "base_uri": "https://localhost:8080/"
        },
        "id": "eSi8p_ga-bUX",
        "outputId": "c5c24e08-8ff2-4c0d-f2db-cd31cfc14fff"
      },
      "outputs": [
        {
          "data": {
            "text/plain": [
              "0      Asian elephants electrocuted after drinking session\\r\\nAnanova\\r\\nJanuary 20, 2004\\r\\n\\r\\nFour wild Asian elephants that got drunk on rice beer have been electrocuted \\r\\nin the northern Indian state of Meghalaya.\\r\\n\\r\\nA forest official said a herd of about 24 elephants went on the rampage in a \\r\\nremote area in the West Garo Hills district.\\r\\n\\r\\n\"The elephants, after getting high on rice...\n",
              "1      2 HELD FOR ELEPHANTS ELECTROCUTION\\r\\nThe Hindu\\r\\nJanuary 27, 2004\\r\\n\\r\\nTwo farm assistants have been taken into custody by special teams of the \\r\\nForest department in connection with the electrocution of a tusker and a \\r\\nfemale elephant at two places in the Coimbatore reserve forest division. One \\r\\nincident was reported on Saturday night and the other on Sunday. The female \\r\\nelepha...\n",
              "2      2 HELD FOR ELEPHANTS ELECTROCUTION\\r\\nThe Hindu\\r\\nJanuary 27, 2004\\r\\n\\r\\nTwo farm assistants have been taken into custody by special teams of the \\r\\nForest department in connection with the electrocution of a tusker and a \\r\\nfemale elephant at two places in the Coimbatore reserve forest division. One \\r\\nincident was reported on Saturday night and the other on Sunday. The female \\r\\nelepha...\n",
              "3      TWO ELEPHANTS IN RIAU POISONED TO DEATH\\r\\nAntara - The Indonesian National News Agency\\r\\nJanuary 29, 2004\\r\\n\\r\\nPekanbaru, Jan 29 (ANTARA) - Two male elephants were found dead after being \\r\\npoisoned by unidentified persons at spot near the elephant training center \\r\\n(PTL) in Duri area, Bengkalis district, Riau, recently.\\r\\n\\r\\nChairman of a local non-governmental organization on wildli...\n",
              "4      EXPERTS CALL FOR INVESTIGATION ON KILLING OF ELEPHANTS IN INDON PROVINCE\\r\\nAntara - The Indonesian National News Agency\\r\\nJanuary 29, 2004\\r\\n\\r\\nBandar Lampung, Lampung, Jan 29 (ANTARA) - A number of environmental \\r\\nactivists in Indonesia's Lampung province have urged concerned agencies to \\r\\nlook into the killing of four elephants at the Bukit Barisan National Park, \\r\\na spokesman has ...\n",
              "                                                                                                                                                                                                            ...                                                                                                                                                                                                       \n",
              "830    Spate of Wildlife Deaths Continues in N Bengal, Now Elephant Dies in\\r\\nSiliguri (India)\\r\\nNewsmen\\r\\nDecember 28, 2018\\r\\n\\r\\nSee link\\r\\n<https://newsmen.in/news/spate-of-wildlife-deaths-continues-in-n-bengal-now-elephant-dies-in-siliguri/>\\r\\nfor photo.\\r\\n\\r\\nSILIGURI: With the winter cold intensifying, north Bengal is witnessing one\\r\\nafter another poaching or mystery deaths of wild ani...\n",
              "831    Jumbos electrocuted (India)\\r\\n\\r\\nDeccan Chronicle\\r\\n\\r\\n21st May 2013\\r\\n\\r\\n\\r\\n\\r\\nKrishnagiri: Two cow elephants died on Monday after they came into contact with a live Tangedco electric wire that passes through the reserved forest area in Denkannikottai taluk, near Hosur, of Krishnagiri.\\r\\n\\r\\n\\r\\n\\r\\nOn Monday morning, villagers found the carcass of two female elephants near their vil...\n",
              "832    Ivory hunters kill another elephant (Thailand) \\r\\nBangkok Post \\r\\n9 Apr 2013 \\r\\n \\r\\nThe dessicated carcass of a dead elephant has been found in Kaeng Krachan National Park, in Phetchaburi province, about three kilometres from where another elephant was found dead on March 8. \\r\\n \\r\\nChaiwat Limlikhit-aksorn, the park chief, said he was informed of the find by villagers on Tuesday morning ...\n",
              "833    Two elephants die in Mysore district (India)\\r\\nTimes of India\\r\\n28 January 2009\\r\\n\\r\\nMYSORE: Close on heels of the death of a leopard in Heggadadevana Kote taluk, two elephants including a calf died in two separate incidents in Mysore district on Monday. A 6-year-old male calf is suspected to have died due to electric shock in Makanapura, Nanjangud taluk whereas 40-year-old tamed elephant,...\n",
              "834    Two elephants die in Mysore district (India)\\r\\nTimes of India\\r\\n28 January 2009\\r\\n\\r\\nMYSORE: Close on heels of the death of a leopard in Heggadadevana Kote taluk, two elephants including a calf died in two separate incidents in Mysore district on Monday. A 6-year-old male calf is suspected to have died due to electric shock in Makanapura, Nanjangud taluk whereas 40-year-old tamed elephant,...\n",
              "Name: Article, Length: 833, dtype: object"
            ]
          },
          "execution_count": 37,
          "metadata": {},
          "output_type": "execute_result"
        }
      ],
      "source": [
        "train['Article']"
      ]
    },
    {
      "cell_type": "code",
      "execution_count": 38,
      "metadata": {
        "colab": {
          "base_uri": "https://localhost:8080/",
          "height": 1000
        },
        "id": "N2bdtxiVryeY",
        "outputId": "b1543c65-acce-48b7-dcc0-576874435bd1"
      },
      "outputs": [
        {
          "data": {
            "text/html": [
              "<div>\n",
              "<style scoped>\n",
              "    .dataframe tbody tr th:only-of-type {\n",
              "        vertical-align: middle;\n",
              "    }\n",
              "\n",
              "    .dataframe tbody tr th {\n",
              "        vertical-align: top;\n",
              "    }\n",
              "\n",
              "    .dataframe thead th {\n",
              "        text-align: right;\n",
              "    }\n",
              "</style>\n",
              "<table border=\"1\" class=\"dataframe\">\n",
              "  <thead>\n",
              "    <tr style=\"text-align: right;\">\n",
              "      <th></th>\n",
              "      <th>Source</th>\n",
              "      <th>Title</th>\n",
              "      <th>Date Published</th>\n",
              "      <th>Article</th>\n",
              "    </tr>\n",
              "  </thead>\n",
              "  <tbody>\n",
              "    <tr>\n",
              "      <th>0</th>\n",
              "      <td>ANANOYA</td>\n",
              "      <td>Asian elephants electrocuted after drinking session</td>\n",
              "      <td>2004-01-20</td>\n",
              "      <td>Asian elephants electrocuted after drinking session\\r\\nAnanova\\r\\nJanuary 20, 2004\\r\\n\\r\\nFour wild Asian elephants that got drunk on rice beer have been electrocuted \\r\\nin the northern Indian state of Meghalaya.\\r\\n\\r\\nA forest official said a herd of about 24 elephants went on the rampage in a \\r\\nremote area in the West Garo Hills district.\\r\\n\\r\\n\"The elephants, after getting high on rice...</td>\n",
              "    </tr>\n",
              "    <tr>\n",
              "      <th>1</th>\n",
              "      <td>THE HINDU</td>\n",
              "      <td>2 Held for Elephants electrocution</td>\n",
              "      <td>2004-01-27</td>\n",
              "      <td>2 HELD FOR ELEPHANTS ELECTROCUTION\\r\\nThe Hindu\\r\\nJanuary 27, 2004\\r\\n\\r\\nTwo farm assistants have been taken into custody by special teams of the \\r\\nForest department in connection with the electrocution of a tusker and a \\r\\nfemale elephant at two places in the Coimbatore reserve forest division. One \\r\\nincident was reported on Saturday night and the other on Sunday. The female \\r\\nelepha...</td>\n",
              "    </tr>\n",
              "    <tr>\n",
              "      <th>2</th>\n",
              "      <td>THE HINDU</td>\n",
              "      <td>2 Held for Elephants electrocution</td>\n",
              "      <td>2004-01-27</td>\n",
              "      <td>2 HELD FOR ELEPHANTS ELECTROCUTION\\r\\nThe Hindu\\r\\nJanuary 27, 2004\\r\\n\\r\\nTwo farm assistants have been taken into custody by special teams of the \\r\\nForest department in connection with the electrocution of a tusker and a \\r\\nfemale elephant at two places in the Coimbatore reserve forest division. One \\r\\nincident was reported on Saturday night and the other on Sunday. The female \\r\\nelepha...</td>\n",
              "    </tr>\n",
              "    <tr>\n",
              "      <th>3</th>\n",
              "      <td>THE INDONESIAN NATIONAL NEWS AGENCY</td>\n",
              "      <td>Two Elephants in Riau Poisoned to Death</td>\n",
              "      <td>2004-01-29</td>\n",
              "      <td>TWO ELEPHANTS IN RIAU POISONED TO DEATH\\r\\nAntara - The Indonesian National News Agency\\r\\nJanuary 29, 2004\\r\\n\\r\\nPekanbaru, Jan 29 (ANTARA) - Two male elephants were found dead after being \\r\\npoisoned by unidentified persons at spot near the elephant training center \\r\\n(PTL) in Duri area, Bengkalis district, Riau, recently.\\r\\n\\r\\nChairman of a local non-governmental organization on wildli...</td>\n",
              "    </tr>\n",
              "    <tr>\n",
              "      <th>4</th>\n",
              "      <td>THE INDONESIAN NATIONAL NEWS AGENCY</td>\n",
              "      <td>Experts call for investigation on killing of elephants in Indonesia Province.</td>\n",
              "      <td>2004-01-29</td>\n",
              "      <td>EXPERTS CALL FOR INVESTIGATION ON KILLING OF ELEPHANTS IN INDON PROVINCE\\r\\nAntara - The Indonesian National News Agency\\r\\nJanuary 29, 2004\\r\\n\\r\\nBandar Lampung, Lampung, Jan 29 (ANTARA) - A number of environmental \\r\\nactivists in Indonesia's Lampung province have urged concerned agencies to \\r\\nlook into the killing of four elephants at the Bukit Barisan National Park, \\r\\na spokesman has ...</td>\n",
              "    </tr>\n",
              "    <tr>\n",
              "      <th>...</th>\n",
              "      <td>...</td>\n",
              "      <td>...</td>\n",
              "      <td>...</td>\n",
              "      <td>...</td>\n",
              "    </tr>\n",
              "    <tr>\n",
              "      <th>830</th>\n",
              "      <td>NEWSMEN</td>\n",
              "      <td>Spate of Wildlife Deaths Continues in N Bengal, Now Elephant Dies in Siliguri (India)</td>\n",
              "      <td>2018-12-28</td>\n",
              "      <td>Spate of Wildlife Deaths Continues in N Bengal, Now Elephant Dies in\\r\\nSiliguri (India)\\r\\nNewsmen\\r\\nDecember 28, 2018\\r\\n\\r\\nSee link\\r\\n&lt;https://newsmen.in/news/spate-of-wildlife-deaths-continues-in-n-bengal-now-elephant-dies-in-siliguri/&gt;\\r\\nfor photo.\\r\\n\\r\\nSILIGURI: With the winter cold intensifying, north Bengal is witnessing one\\r\\nafter another poaching or mystery deaths of wild ani...</td>\n",
              "    </tr>\n",
              "    <tr>\n",
              "      <th>831</th>\n",
              "      <td>DECCAN CHRONICLE</td>\n",
              "      <td>Jumbos electrocuted (India)</td>\n",
              "      <td>2013-05-21</td>\n",
              "      <td>Jumbos electrocuted (India)\\r\\n\\r\\nDeccan Chronicle\\r\\n\\r\\n21st May 2013\\r\\n\\r\\n\\r\\n\\r\\nKrishnagiri: Two cow elephants died on Monday after they came into contact with a live Tangedco electric wire that passes through the reserved forest area in Denkannikottai taluk, near Hosur, of Krishnagiri.\\r\\n\\r\\n\\r\\n\\r\\nOn Monday morning, villagers found the carcass of two female elephants near their vil...</td>\n",
              "    </tr>\n",
              "    <tr>\n",
              "      <th>832</th>\n",
              "      <td>BANGKOK POST</td>\n",
              "      <td>Ivory hunters kill another elephant (Thailand)</td>\n",
              "      <td>2013-04-09</td>\n",
              "      <td>Ivory hunters kill another elephant (Thailand) \\r\\nBangkok Post \\r\\n9 Apr 2013 \\r\\n \\r\\nThe dessicated carcass of a dead elephant has been found in Kaeng Krachan National Park, in Phetchaburi province, about three kilometres from where another elephant was found dead on March 8. \\r\\n \\r\\nChaiwat Limlikhit-aksorn, the park chief, said he was informed of the find by villagers on Tuesday morning ...</td>\n",
              "    </tr>\n",
              "    <tr>\n",
              "      <th>833</th>\n",
              "      <td>TIMES OF INDIA</td>\n",
              "      <td>Two elephants die in Mysore district</td>\n",
              "      <td>2009-01-28</td>\n",
              "      <td>Two elephants die in Mysore district (India)\\r\\nTimes of India\\r\\n28 January 2009\\r\\n\\r\\nMYSORE: Close on heels of the death of a leopard in Heggadadevana Kote taluk, two elephants including a calf died in two separate incidents in Mysore district on Monday. A 6-year-old male calf is suspected to have died due to electric shock in Makanapura, Nanjangud taluk whereas 40-year-old tamed elephant,...</td>\n",
              "    </tr>\n",
              "    <tr>\n",
              "      <th>834</th>\n",
              "      <td>TIMES OF INDIA</td>\n",
              "      <td>Two elephants die in Mysore district</td>\n",
              "      <td>2009-01-28</td>\n",
              "      <td>Two elephants die in Mysore district (India)\\r\\nTimes of India\\r\\n28 January 2009\\r\\n\\r\\nMYSORE: Close on heels of the death of a leopard in Heggadadevana Kote taluk, two elephants including a calf died in two separate incidents in Mysore district on Monday. A 6-year-old male calf is suspected to have died due to electric shock in Makanapura, Nanjangud taluk whereas 40-year-old tamed elephant,...</td>\n",
              "    </tr>\n",
              "  </tbody>\n",
              "</table>\n",
              "<p>833 rows × 4 columns</p>\n",
              "</div>"
            ],
            "text/plain": [
              "                                  Source  \\\n",
              "0                                ANANOYA   \n",
              "1                              THE HINDU   \n",
              "2                              THE HINDU   \n",
              "3    THE INDONESIAN NATIONAL NEWS AGENCY   \n",
              "4    THE INDONESIAN NATIONAL NEWS AGENCY   \n",
              "..                                   ...   \n",
              "830                              NEWSMEN   \n",
              "831                     DECCAN CHRONICLE   \n",
              "832                         BANGKOK POST   \n",
              "833                       TIMES OF INDIA   \n",
              "834                       TIMES OF INDIA   \n",
              "\n",
              "                                                                                     Title  \\\n",
              "0                                     Asian elephants electrocuted after drinking session    \n",
              "1                                                       2 Held for Elephants electrocution   \n",
              "2                                                       2 Held for Elephants electrocution   \n",
              "3                                                  Two Elephants in Riau Poisoned to Death   \n",
              "4           Experts call for investigation on killing of elephants in Indonesia Province.    \n",
              "..                                                                                     ...   \n",
              "830  Spate of Wildlife Deaths Continues in N Bengal, Now Elephant Dies in Siliguri (India)   \n",
              "831                                                            Jumbos electrocuted (India)   \n",
              "832                                         Ivory hunters kill another elephant (Thailand)   \n",
              "833                                                   Two elephants die in Mysore district   \n",
              "834                                                   Two elephants die in Mysore district   \n",
              "\n",
              "    Date Published  \\\n",
              "0       2004-01-20   \n",
              "1       2004-01-27   \n",
              "2       2004-01-27   \n",
              "3       2004-01-29   \n",
              "4       2004-01-29   \n",
              "..             ...   \n",
              "830     2018-12-28   \n",
              "831     2013-05-21   \n",
              "832     2013-04-09   \n",
              "833     2009-01-28   \n",
              "834     2009-01-28   \n",
              "\n",
              "                                                                                                                                                                                                                                                                                                                                                                                                             Article  \n",
              "0    Asian elephants electrocuted after drinking session\\r\\nAnanova\\r\\nJanuary 20, 2004\\r\\n\\r\\nFour wild Asian elephants that got drunk on rice beer have been electrocuted \\r\\nin the northern Indian state of Meghalaya.\\r\\n\\r\\nA forest official said a herd of about 24 elephants went on the rampage in a \\r\\nremote area in the West Garo Hills district.\\r\\n\\r\\n\"The elephants, after getting high on rice...  \n",
              "1    2 HELD FOR ELEPHANTS ELECTROCUTION\\r\\nThe Hindu\\r\\nJanuary 27, 2004\\r\\n\\r\\nTwo farm assistants have been taken into custody by special teams of the \\r\\nForest department in connection with the electrocution of a tusker and a \\r\\nfemale elephant at two places in the Coimbatore reserve forest division. One \\r\\nincident was reported on Saturday night and the other on Sunday. The female \\r\\nelepha...  \n",
              "2    2 HELD FOR ELEPHANTS ELECTROCUTION\\r\\nThe Hindu\\r\\nJanuary 27, 2004\\r\\n\\r\\nTwo farm assistants have been taken into custody by special teams of the \\r\\nForest department in connection with the electrocution of a tusker and a \\r\\nfemale elephant at two places in the Coimbatore reserve forest division. One \\r\\nincident was reported on Saturday night and the other on Sunday. The female \\r\\nelepha...  \n",
              "3    TWO ELEPHANTS IN RIAU POISONED TO DEATH\\r\\nAntara - The Indonesian National News Agency\\r\\nJanuary 29, 2004\\r\\n\\r\\nPekanbaru, Jan 29 (ANTARA) - Two male elephants were found dead after being \\r\\npoisoned by unidentified persons at spot near the elephant training center \\r\\n(PTL) in Duri area, Bengkalis district, Riau, recently.\\r\\n\\r\\nChairman of a local non-governmental organization on wildli...  \n",
              "4    EXPERTS CALL FOR INVESTIGATION ON KILLING OF ELEPHANTS IN INDON PROVINCE\\r\\nAntara - The Indonesian National News Agency\\r\\nJanuary 29, 2004\\r\\n\\r\\nBandar Lampung, Lampung, Jan 29 (ANTARA) - A number of environmental \\r\\nactivists in Indonesia's Lampung province have urged concerned agencies to \\r\\nlook into the killing of four elephants at the Bukit Barisan National Park, \\r\\na spokesman has ...  \n",
              "..                                                                                                                                                                                                                                                                                                                                                                                                               ...  \n",
              "830  Spate of Wildlife Deaths Continues in N Bengal, Now Elephant Dies in\\r\\nSiliguri (India)\\r\\nNewsmen\\r\\nDecember 28, 2018\\r\\n\\r\\nSee link\\r\\n<https://newsmen.in/news/spate-of-wildlife-deaths-continues-in-n-bengal-now-elephant-dies-in-siliguri/>\\r\\nfor photo.\\r\\n\\r\\nSILIGURI: With the winter cold intensifying, north Bengal is witnessing one\\r\\nafter another poaching or mystery deaths of wild ani...  \n",
              "831  Jumbos electrocuted (India)\\r\\n\\r\\nDeccan Chronicle\\r\\n\\r\\n21st May 2013\\r\\n\\r\\n\\r\\n\\r\\nKrishnagiri: Two cow elephants died on Monday after they came into contact with a live Tangedco electric wire that passes through the reserved forest area in Denkannikottai taluk, near Hosur, of Krishnagiri.\\r\\n\\r\\n\\r\\n\\r\\nOn Monday morning, villagers found the carcass of two female elephants near their vil...  \n",
              "832  Ivory hunters kill another elephant (Thailand) \\r\\nBangkok Post \\r\\n9 Apr 2013 \\r\\n \\r\\nThe dessicated carcass of a dead elephant has been found in Kaeng Krachan National Park, in Phetchaburi province, about three kilometres from where another elephant was found dead on March 8. \\r\\n \\r\\nChaiwat Limlikhit-aksorn, the park chief, said he was informed of the find by villagers on Tuesday morning ...  \n",
              "833  Two elephants die in Mysore district (India)\\r\\nTimes of India\\r\\n28 January 2009\\r\\n\\r\\nMYSORE: Close on heels of the death of a leopard in Heggadadevana Kote taluk, two elephants including a calf died in two separate incidents in Mysore district on Monday. A 6-year-old male calf is suspected to have died due to electric shock in Makanapura, Nanjangud taluk whereas 40-year-old tamed elephant,...  \n",
              "834  Two elephants die in Mysore district (India)\\r\\nTimes of India\\r\\n28 January 2009\\r\\n\\r\\nMYSORE: Close on heels of the death of a leopard in Heggadadevana Kote taluk, two elephants including a calf died in two separate incidents in Mysore district on Monday. A 6-year-old male calf is suspected to have died due to electric shock in Makanapura, Nanjangud taluk whereas 40-year-old tamed elephant,...  \n",
              "\n",
              "[833 rows x 4 columns]"
            ]
          },
          "execution_count": 38,
          "metadata": {},
          "output_type": "execute_result"
        }
      ],
      "source": [
        "train"
      ]
    },
    {
      "cell_type": "markdown",
      "metadata": {
        "id": "zicnz_OGqnD1"
      },
      "source": [
        "# Construct data to be predicted\n",
        "\n",
        "Going to start off by seperating each objective into its own set, one dataframe for Country, one for Total, and etc."
      ]
    },
    {
      "cell_type": "code",
      "execution_count": 39,
      "metadata": {
        "id": "qZ1wE5gR6nk-"
      },
      "outputs": [],
      "source": [
        "test_country = df['Country']\n",
        "test_state = df['State']\n",
        "test_district = df['District']\n",
        "test_village = df['Village/Place']\n",
        "test_total = df['Total']\n",
        "test_date = df['Date (Event)']"
      ]
    },
    {
      "cell_type": "code",
      "execution_count": 40,
      "metadata": {
        "colab": {
          "base_uri": "https://localhost:8080/"
        },
        "id": "UDcTS5Bb9gIy",
        "outputId": "7f79fa5b-31a4-4751-bd29-b23b40fec0ff"
      },
      "outputs": [
        {
          "data": {
            "text/plain": [
              "array(['India', 'Indonesia', 'Bangladesh', 'Malaysia', 'Sri Lanka',\n",
              "       'Nepal', 'Thailand', 'Vietnam', 'Laos', 'China', 'Cambodia',\n",
              "       'Burma'], dtype=object)"
            ]
          },
          "execution_count": 40,
          "metadata": {},
          "output_type": "execute_result"
        }
      ],
      "source": [
        "test_country = test_country.str.strip()\n",
        "test_country.unique()"
      ]
    },
    {
      "cell_type": "code",
      "execution_count": 41,
      "metadata": {
        "colab": {
          "base_uri": "https://localhost:8080/"
        },
        "id": "-rl-deLbBcvK",
        "outputId": "6e70cc34-0a06-4bf3-8e00-dab086a5e87c"
      },
      "outputs": [
        {
          "data": {
            "text/plain": [
              "array(['24', '1', '2', '4', '10', '6', 'NG', '13', '3', '25', '9', '17',\n",
              "       '40', '80', '5', '7', '50', '60', '21', '8', '16', '15', '35',\n",
              "       '22', '30', '12', '19', '55'], dtype=object)"
            ]
          },
          "execution_count": 41,
          "metadata": {},
          "output_type": "execute_result"
        }
      ],
      "source": [
        "test_total.unique()"
      ]
    },
    {
      "cell_type": "code",
      "execution_count": 42,
      "metadata": {
        "colab": {
          "base_uri": "https://localhost:8080/"
        },
        "id": "bmCGVGlV3GQn",
        "outputId": "64aee874-c3c9-4a83-eb0c-fb18f4899496"
      },
      "outputs": [
        {
          "data": {
            "text/plain": [
              "676"
            ]
          },
          "execution_count": 42,
          "metadata": {},
          "output_type": "execute_result"
        }
      ],
      "source": [
        "test_village.nunique()"
      ]
    },
    {
      "cell_type": "code",
      "execution_count": 43,
      "metadata": {
        "id": "YW6FwyISBYlS"
      },
      "outputs": [],
      "source": [
        "test_village = test_village.str.strip()\n",
        "test_village = test_village.str.upper()\n",
        "#test_village.unique()"
      ]
    },
    {
      "cell_type": "code",
      "execution_count": 44,
      "metadata": {
        "colab": {
          "base_uri": "https://localhost:8080/"
        },
        "id": "Tps6456R3qqE",
        "outputId": "6595d28b-1de9-4281-ab48-03e9fd99960b"
      },
      "outputs": [
        {
          "data": {
            "text/plain": [
              "668"
            ]
          },
          "execution_count": 44,
          "metadata": {},
          "output_type": "execute_result"
        }
      ],
      "source": [
        "test_village.nunique()"
      ]
    },
    {
      "cell_type": "code",
      "execution_count": 45,
      "metadata": {
        "colab": {
          "base_uri": "https://localhost:8080/"
        },
        "id": "Kk4OuWaQBXKQ",
        "outputId": "bf50da60-fd65-4b08-f546-940dbf270331"
      },
      "outputs": [
        {
          "data": {
            "text/plain": [
              "array(['WEST GARO HILLS', 'COIMBATORE', 'NG', 'HARIDWAR',\n",
              "       'PATHANAMTHITTA', 'MYSORE', 'KEONJHAR', 'COX’S BAZAAR', 'KHUNTI',\n",
              "       'DUMKA', 'NAINITAL', 'JALPAIGURI', 'PAURI GHARWAL', 'UDALGURI',\n",
              "       'SERAIKELA KHARSAWAN', 'THENI', 'MAYURBHANJ', 'KHAJARA',\n",
              "       'DINDIGUL', 'SIVAGIRI FOREST RANGE IN TIRUNELVELI', 'DEHRADUN',\n",
              "       'JAJAPUR', 'NILIGIRIS', 'RANCHI', 'SAMBALPUR', 'KRISHNAGIRI',\n",
              "       'SONITPUR', 'BANGALORE', 'DOOARS', 'DARJEELING', 'VIZIANAGARAM',\n",
              "       'COORG', 'JAMSHEDPUR', 'PALAKKAD', 'NAGAON', 'ERODE', 'SUNDERGARH',\n",
              "       'KHUTI', 'CHANDGAD', 'SIVASAGAR', 'SINGHBHUM', 'KHAO CHAMAO',\n",
              "       'KODAGU', 'CHAMARAJNAGAR', 'KARBI ANGLONG', 'KENDUJHAR', 'ANGUL',\n",
              "       'KHURDA KHORDA', 'SAHARANPUR', 'BALASORE', 'MIDNAPORE',\n",
              "       'KAMRUP METROPOLITAN', 'GOLAGHAT', 'IDUKKI', 'MORIGAON',\n",
              "       'NAYAGRAM', 'DHENKANAL', 'GUMLA', 'HASSAN', 'WEST MIDNAPORE',\n",
              "       'BALANGIR', 'LAKHIMPUR', 'GANJAM', 'PALAMU', 'JORHAT',\n",
              "       'CHAMARAJANAGAR', 'BARGARH', 'SOUTH 24 PARGANAS', 'BANKURA',\n",
              "       'PURULIA', 'SUNDARGARH', 'NANITAL', 'CUTTACK', 'MALAPPURAM',\n",
              "       'UDALGIRI', 'RAMGARH', 'RAIPUR', 'KALIMPONG', 'BAKSA',\n",
              "       'THIRUVANANTHAPURAM', 'DALTONGANJ', 'SUBARNAPUR', 'RIAU',\n",
              "       'GUDALUR', 'MUTHATHI', 'DOOMDOOMA', 'RAIGARH', 'SILIGURI',\n",
              "       'SILIGRUI', 'PALAMAU', 'DAKSHIN KANNAD', 'CHITTOOR', 'MAYUBHANJ',\n",
              "       'SHIMOGA', 'JAJPUR', 'NILGIRIS', 'UMARIA', 'SIDHI', 'EAST SIANG',\n",
              "       'NAYAGARH', 'ALIPURDUA', 'SINDHUDURG', 'ERNAKULAM',\n",
              "       'EAST SINGHBHUM', 'BELGAUM', 'THRISSUR', 'ALIPURDUAR', 'GOALPARA',\n",
              "       'SONEPUR', 'BOUDH', 'PURNIA', 'PURBI SINGHBHUM', 'VELLORE',\n",
              "       'LAKHIPUR', 'BURDWAN', 'BIJNOR', 'MYSURU', 'KAMRUP', 'WAYANAD',\n",
              "       'OOTY', 'BENGALURU', 'DHUBRI', 'MALDA', 'MADURAI', 'DEOGARH',\n",
              "       'WEST TRIPURA', 'TEZPUR', 'BARPETA', 'RAMANAGARA', 'TRISSUR',\n",
              "       'SURAJPUR', 'TINSUKIA', 'MIDDLE ANDAMAN', 'KHARGONE', 'TIRUPUR',\n",
              "       'KANDHAMAL', 'SATARA', 'UDHAM SINGH NAGAR', 'CHIKKAMAGALURU',\n",
              "       'SAHEBGANJ', 'LATEHAR', 'JHARSUGUDA', 'DIBRUGARH',\n",
              "       'SOUTH WEST GARO HILLS', 'KOKRAJHAR', 'HOJAI', 'BANDIPUR',\n",
              "       'BISWANATH', 'CUTTAK', 'BANGALORE RURAL', 'THOOTHUKUDI',\n",
              "       'KOTHAMANGALAM', 'LAKHIMPUR KHERI', 'PANTNAGAR',\n",
              "       'SOUTH GARO HILLS', 'TARIKERE', 'UDAYGIRI', 'JHARGRAM',\n",
              "       'NARSINGHPUR', 'KOHIMA', 'PAURI GARHWAL', 'WEST SINGHBHUM'],\n",
              "      dtype=object)"
            ]
          },
          "execution_count": 45,
          "metadata": {},
          "output_type": "execute_result"
        }
      ],
      "source": [
        "test_district = test_district.str.strip()\n",
        "test_district = test_district.str.upper()\n",
        "test_district.unique()"
      ]
    },
    {
      "cell_type": "code",
      "execution_count": 46,
      "metadata": {
        "colab": {
          "base_uri": "https://localhost:8080/"
        },
        "id": "31p5SO4CAsBe",
        "outputId": "309f51fe-82fb-4339-a6ea-85b4d4f01618"
      },
      "outputs": [
        {
          "data": {
            "text/plain": [
              "array(['MEGHALAYA', 'TAMIL NADU', 'RIAU', 'WEST LAMPUNG', 'UTTARAKHAND',\n",
              "       'KERALA', 'KARNATAKA', 'ODISHA', 'NG', 'JHARKHAND', 'JAKARTA',\n",
              "       'SABAH', 'WEST BENGAL', 'ASSAM', 'CHHATTISGARH', 'MADHYA PRADESH',\n",
              "       \"COX'S BAZAR\", 'HULU PERAK', 'POLONNARUWA', 'JHAPA',\n",
              "       'ANDHRA PRADESH', 'LALMONIRHAT', 'MAHARASHTRA', 'RAYONG',\n",
              "       'SUMATRA', 'ANURADHAPURA', 'VINH CUU', 'LAMPUNG', 'UTTAR PRADESH',\n",
              "       'NAXAITHONG', 'EA SUP', 'TAMIANG', 'TRINCOMALEE', 'DELHI',\n",
              "       'KANCHANADIT', 'BUON DON', 'YUNNAN', 'THANAMALVILA', 'BENGKALIS',\n",
              "       'DAK LAK', 'BAKAMUNA', 'ACEH', 'ACEH JAYA', 'EAST ACEH',\n",
              "       'BO PHLOI', 'MYMENSINGH', 'SI SAWAT', 'BANJARNEGARA',\n",
              "       'PHETCHABURI', \"PHETCHABURI'S\", 'HAMBANTOTA', 'KAENG KRACHAN',\n",
              "       'RIAUA', 'MANNAR', 'WEST ACEH', 'PRACHUAP KHIRI KHAN', 'PELALAWAN',\n",
              "       'TAWAU', 'MONDULKIRI', 'PARSA', 'KURUNEGALA', 'ARUNACHAL PRADESH',\n",
              "       'MURSHIDABAD', 'DAL LAK', 'MUANG', 'PUTTALAM', 'JAYA',\n",
              "       'KANCHANABURI', 'NORTH CENTRAL PROVINCE', 'HANG CHAT', 'BIHAR',\n",
              "       'KAENG HANG MAEW', 'KEDAH', 'NARATHIWAT', 'RANGAE', 'TRIPURA',\n",
              "       'SABHA', 'CHACHOENGSAO', 'MUEANG CHANTHABURI', 'KANCHANPUR',\n",
              "       'ANDAMAN & NICOBAR ISLANDS', 'SOUTHWEST CHINA',\n",
              "       'NORTH WESTERN PROVINCE', 'VAVUNIYA', 'TANINTHAYI', 'MANDALAY',\n",
              "       'WIANG SA', 'PERAK', 'KRATIE', 'SOUTHERN PROVINCE', 'RATNAPURA',\n",
              "       'PATHEIN', 'PROVINCE 7', 'SUMAY', 'NAM NAO', 'UVA', 'SHERPUR',\n",
              "       'LAMPANG', 'NAKHON RATCHASIMA', 'CHITTAGONG', 'GALGAMGUWA',\n",
              "       'KUI BURI', 'NGAPUTAW', 'PUDUCHERRY', 'SI RACHA', 'SERBAJADI',\n",
              "       'EASTERN SABAH', 'LAHAD DATU', 'BANGKOK', 'HABARANA', 'NAGALAND',\n",
              "       'SANAM CHAI KHET DISTRICT', 'AYEYARWDY', 'MUEANG NAKHON NAYOK',\n",
              "       'SABARAGAMUWA', 'ROWMARI UPAZILA'], dtype=object)"
            ]
          },
          "execution_count": 46,
          "metadata": {},
          "output_type": "execute_result"
        }
      ],
      "source": [
        "test_state = test_state.str.strip()\n",
        "test_state = test_state.str.upper()\n",
        "test_state.unique()"
      ]
    },
    {
      "cell_type": "code",
      "execution_count": 47,
      "metadata": {
        "colab": {
          "base_uri": "https://localhost:8080/"
        },
        "id": "uNvmgIvk4M7X",
        "outputId": "0a74140f-4bfc-4abb-c730-baf36c2b50a6"
      },
      "outputs": [
        {
          "data": {
            "text/plain": [
              "array(['20-01-2004', '24-01-2004', '25-01-2004', '29-01-2004',\n",
              "       '20-02-2004', '23-02-2004', '24-03-2004', '29-03-2004',\n",
              "       '02-04-2004', '08-04-2004', '21-05-2004', '19-09-2004',\n",
              "       '28-10-2004', '08-11-2004', '28-11-2004', '05-03-2005',\n",
              "       '17-03-2005', '02-04-2005', '13-05-2005', '27-06-2005',\n",
              "       '30-09-2005', '06-11-2005', '01-12-2005', '02-12-2005',\n",
              "       '13-12-2005', '02-01-2006', '12-01-2006', '01-03-2006',\n",
              "       '12-03-2006', '14-03-2006', '28-03-2006', '16-04-2006',\n",
              "       '09-05-2006', '18-05-2006', '12-06-2006', '22-09-2006',\n",
              "       '06-10-2006', '09-10-2006', '13-10-2006', '18-10-2006',\n",
              "       '02-11-2006', '13-11-2006', '16-12-2006', '14-03-2007',\n",
              "       '27-06-2007', '11-07-2007', '12-07-2007', '20-07-2007',\n",
              "       '24-07-2007', '26-07-2007', '30-07-2007', '10-08-2007',\n",
              "       '01-09-2007', '19-09-2007', '16-10-2007', '23-10-2007',\n",
              "       '25-11-2007', '04-01-2008', '11-01-2008', '01-05-2008',\n",
              "       '08-05-2008', '02-06-2008', '13-06-2008', '18-06-2008',\n",
              "       '20-06-2008', '22-06-2008', '19-07-2008', '23-07-2008',\n",
              "       '29-07-2008', '01-10-2008', '14-10-2008', '26-01-2009',\n",
              "       '22-02-2009', '26-02-2009', '27-02-2009', '09-03-2009',\n",
              "       '14-03-2009', '08-05-2009', '27-05-2009', '28-05-2009',\n",
              "       '06-06-2009', '11-06-2009', '15-06-2009', '16-06-2009',\n",
              "       '09-07-2009', '10-07-2009', '11-08-2009', '16-08-2009',\n",
              "       '26-08-2009', '14-09-2009', '17/09/2009', '01-10-2009',\n",
              "       '08-10-2009', '11-10-2009', '23-10-2009', '26-10-2009',\n",
              "       '07-11-2009', '12-11-2009', '28-11-2009', '30-11-2009',\n",
              "       '31-12-2009', '01-01-2010', '05-01-2010', '26-02-2010',\n",
              "       '04-03-2010', '15-03-2010', '24-03-2010', '29-03-2010',\n",
              "       '07-04-2010', '16-04-2010', '18-04-2010', '19-04-2010',\n",
              "       '23-04-2010', '24-04-2010', '25-04-2010', '27-04-2010',\n",
              "       '03-05-2010', '27-05-2010', '17-07-2010', '01-08-2010',\n",
              "       '02-08-2010', '03-08-2010', '13-08-2010', '02-09-2010',\n",
              "       '23-09-2010', '25-09-2010', '27-09-2010', '07-10-2010',\n",
              "       '09-10-2010', '12-10-2010', '21-10-2010', '24-10-2010',\n",
              "       '25-10-2010', '26-10-2010', '09-11-2010', '14-11-2010',\n",
              "       '23-11-2010', '28-11-2010', '29-11-2010', '30-11-2010',\n",
              "       '02-12-2010', '04-12-2010', '16-12-2010', '17-12-2010',\n",
              "       '19-12-2010', '21-12-2010', '22-12-2010', '23-12-2010',\n",
              "       '03-01-2011', '05-01-2011', '06-01-2011', '07-01-2011',\n",
              "       '09-01-2011', '12-01-2011', '13-01-2011', '16-01-2011',\n",
              "       '17-01-2011', '26-01-2011', '27-01-2011', '29-01-2011',\n",
              "       '30-01-2011', '02-02-2011', '14-02-2011', '20-03-2011',\n",
              "       '28-03-2011', '02-04-2011', '05-04-2011', '14-04-2011',\n",
              "       '25-04-2011', '05-05-2011', '11-05-2011', '2011-05-31',\n",
              "       '20-06-2011', '07-07-2011', '11-07-2011', '07-08-2011',\n",
              "       '09-08-2011', '19-08-2011', '09-09-2011', '14-09-2011',\n",
              "       '16-09-2011', '24-09-2011', '05-10-2011', '18-10-2011',\n",
              "       '06-11-2011', '18-11-2011', '19-11-2011', '14-12-2011',\n",
              "       '21-12-2011', '23-12-2011', '31-12-2011', '05-01-2012',\n",
              "       '11-01-2012', '14-01-2012', '23-01-2012', '11-02-2012',\n",
              "       '13-02-2012', '12-04-2012', '27-04-2012', '30-04-2012',\n",
              "       '02-05-2012', '06-05-2012', '15-05-2012', '19-05-2012',\n",
              "       '31-05-2012', '07-06-2012', '13-06-2012', '17-06-2012',\n",
              "       '22-06-2012', '22-07-2012', '15-08-2012', '18-08-2012',\n",
              "       '13-09-2012', '26-09-2012', '07-10-2012', '12-10-2012',\n",
              "       '20-10-2012', '12-11-2012', '18-11-2012', '28-11-2012',\n",
              "       '03-12-2012', '04-12-2012', '2013-01-16', '2013-01-29',\n",
              "       '2013-01-30', '2013-02-10', '2013-02-22', '2013-03-05',\n",
              "       '2013-03-11', '2013-04-14', '2013-04-16', '2013-04-22',\n",
              "       '2013-05-21', '2013-06-03', '2013-06-04', '2013-06-13',\n",
              "       '2013-06-19', '2013-07-08', '2013-07-09', '2013-07-13',\n",
              "       '2013-07-25', '2013-08-21', '2013-09-05', '2013-09-12',\n",
              "       '2013-09-14', '2013-10-10', '2013-10-16', '2013-10-22',\n",
              "       '2013-11-11', '2013-11-12', '2013-11-21', '2013-11-23',\n",
              "       '2013-11-25', '2013-11-26', '2013-11-28', '2013-12-23',\n",
              "       '2013-12-26', '26-12-2013', '01-01-2014', '19-01-2014',\n",
              "       '20-01-2014', '21-01-2014', '2014-01-24', '01-02-2014',\n",
              "       '15-02-2014', '26-02-2014', '02-03-2014', '07-03-2014',\n",
              "       '09-03-2014', '18-03-2014', '01-04-2014', '18-04-2014',\n",
              "       '19-04-2014', '02-05-2014', '09-05-2014', '01-06-2014',\n",
              "       '02-06-2014', '19-06-2014', '14-07-2014', '31-07-2014',\n",
              "       '02-08-2014', '07-08-2014', '18-08-2014', '20-08-2014',\n",
              "       '06-09-2014', '08-09-2014', '19-09-2014', '03-10-2014',\n",
              "       '18-10-2014', '21-10-2014', '31-10-2014', '18-11-2014',\n",
              "       '20-11-2014', '21-11-2014', '22-11-2014', '23-11-2014',\n",
              "       '24-11-2014', '29-11-2014', '2015-01-04', '2015-01-15',\n",
              "       '2015-01-29', '2015-01-30', '2015-02-03', '2015-02-13',\n",
              "       '2015-03-14', '2015-03-21', '2015-04-09', '2015-04-10',\n",
              "       '2015-04-13', '2015-04-20', '2015-05-15', '2015-05-23',\n",
              "       '2015-06-12', '2015-06-15', '2015-06-18', '2015-06-19',\n",
              "       '2015-06-22', '2015-06-26', '2015-07-01', '2015-07-04',\n",
              "       '2015-07-05', '2015-07-06', '2015-07-14', '2015-07-16',\n",
              "       '2015-07-17', '2015-07-19', '2015-08-13', '2015-08-15',\n",
              "       '2015-08-31', '2015-09-03', '2015-09-08', '2015-09-11',\n",
              "       '2015-09-12', '2015-09-14', '2015-09-20', '2015-09-22',\n",
              "       '2015-10-07', '2015-10-11', '2015-10-14', '2015-10-15',\n",
              "       '2015-10-20', '2015-10-25', '2015-10-30', '2015-11-02',\n",
              "       '2015-11-03', '2015-11-10', '2015-11-12', '2015-11-17',\n",
              "       '2015-11-21', '2015-11-22', '2015-11-25', '2015-11-27',\n",
              "       '2015-11-28', '2015-11-30', '2015-12-04', '2015-12-09',\n",
              "       '2015-12-13', '2015-12-16', '2015-12-27', '02-01-2016',\n",
              "       '06-01-2016', '10-01-2016', '18-01-2016', '20-01-2016',\n",
              "       '24-01-2016', '27-01-2016', '28-01-2016', '30-01-2016',\n",
              "       '02-02-2016', '03-02-2016', '10-02-2016', '15-02-2016',\n",
              "       '16-02-2016', '17-02-2016', '28-02-2016', '29-02-2016',\n",
              "       '01-03-2016', '06-03-2016', '09-03-2016', '11-03-2016',\n",
              "       '21-03-2016', '22-03-2016', '25-03-2016', '27-03-2016',\n",
              "       '07-04-2016', '11-04-2016', '16-04-2016', '20-05-2016',\n",
              "       '22-05-2016', '29-05-2016', '30-05-2016', '06-06-2016',\n",
              "       '07-06-2016', '11-06-2016', '15-06-2016', '18-06-2016',\n",
              "       '19-06-2016', '21-06-2016', '26-06-2016', '05-07-2016',\n",
              "       '06-07-2016', '12-07-2016', '14-07-2016', '19-07-2016',\n",
              "       '25-07-2016', '26-07-2016', '07-08-2016', '10-08-2016',\n",
              "       '18-08-2016', '21-08-2016', '24-08-2016', '26-08-2016',\n",
              "       '31-08-2016', '05-09-2016', '16-09-2016', '17-09-2016',\n",
              "       '18-09-2016', '23-09-2016', '09-10-2016', '13-10-2016',\n",
              "       '28-10-2016', '05-11-2016', '09-11-2016', '22-11-2016',\n",
              "       '23-11-2016', '28-11-2016', '30-11-2016', '07-12-2016',\n",
              "       '17-12-2016', '24-12-2016', '2016-12-26', '2017-01-01',\n",
              "       '2017-01-02', '2017-01-05', '2017-01-06', '2017-01-09',\n",
              "       '2017-01-17', '2017-01-18', '2017-01-25', '2017-01-26',\n",
              "       '2017-01-29', '2017-01-31', '2017-02-03', '2017-02-08',\n",
              "       '2017-02-15', '2017-02-24', '2017-02-25', '2017-02-26',\n",
              "       '2017-03-04', '2017-03-08', '2017-03-13', '2017-03-18',\n",
              "       '2017-03-20', '2017-03-21', '2017-03-22', '2017-03-31',\n",
              "       '2017-04-01', '2017-04-03', '2017-04-05', '2017-04-07',\n",
              "       '2017-04-10', '2017-04-11', '2017-04-13', '2017-04-16',\n",
              "       '2017-04-17', '2017-04-22', '2017-04-25', '2017-05-01',\n",
              "       '2017-05-03', '2017-05-05', '2017-05-06', '2017-05-07',\n",
              "       '2017-05-10', '2017-05-15', '2017-05-19', '2017-05-21',\n",
              "       '2017-05-24', '2017-05-25', '25-05-2017', '2017-05-27',\n",
              "       '2017-05-28', '2017-05-30', '2017-06-03', '2017-06-07',\n",
              "       '2017-06-08', '2017-06-09', '2017-06-10', '2017-06-13',\n",
              "       '2017-06-14', '2017-06-15', '2017-06-19', '2017-06-21',\n",
              "       '2017-06-27', '08-07-2017', '20-07-2017', '22-07-2017',\n",
              "       '25-07-2017', '30-07-2017', '01-08-2017', '04-08-2017',\n",
              "       '05-08-2017', '10-08-2017', '11-08-2017', '14-08-2017',\n",
              "       '15-08-2017', '18-08-2017', '19-08-2017', '20-08-2017',\n",
              "       '22-08-2017', '23-08-2017', '24-08-2017', '25-08-2017',\n",
              "       '26-08-2017', '29-08-2017', '31-08-2017', '01-09-2017',\n",
              "       '03-09-2017', '06-09-2017', '09-09-2017', '11-09-2017',\n",
              "       '12-09-2017', '16-09-2017', '17-09-2017', '18-09-2017',\n",
              "       '19-09-2017', '20-09-2017', '22-09-2017', '28-09-2017',\n",
              "       '01-10-2017', '06-10-2017', '08-10-2017', '10-10-2017',\n",
              "       '11-10-2017', '12-10-2017', '13-10-2017', '14-10-2017',\n",
              "       '15-10-2017', '16-10-2017', '18-10-2017', '19-10-2017',\n",
              "       '21-10-2017', '22-10-2017', '23-10-2017', '24-10-2017',\n",
              "       '28-10-2017', '30-10-2017', '01-11-2017', '02-11-2017',\n",
              "       '05-11-2017', '06-11-2017', '09-11-2017', '12-11-2017',\n",
              "       '13-11-2017', '14-11-2017', '15-11-2017', '16-11-2017',\n",
              "       '17-11-2017', '20-11-2017', '21-11-2017', '24-11-2017',\n",
              "       '2017-11-25', '25-11-2017', '26-11-2017', '27-11-2017',\n",
              "       '28-11-2017', '29-11-2017', '03-12-2017', '05-12-2017',\n",
              "       '07-12-2017', '09-12-2017', '11-12-2017', '12-12-2017',\n",
              "       '13-12-2017', '20-12-2017', '21-12-2017', '02-01-2018',\n",
              "       '09-01-2018', '10-01-2018', '11-01-2018', '12-01-2018',\n",
              "       '13-01-2018', '16-01-2018', '25-01-2018', '27-01-2018',\n",
              "       '01-02-2018', '10-02-2018', '12-02-2018', '13-02-2018',\n",
              "       '17-02-2018', '21-02-2018', '22-02-2018', '26-02-2018',\n",
              "       '12-03-2018', '14-03-2018', '29-03-2018', '09-04-2018',\n",
              "       '10-04-2018', '15-04-2018', '19-04-2018', '02-05-2018',\n",
              "       '03-05-2018', '05-05-2018', '16-05-2018', '21-05-2018',\n",
              "       '29-05-2018', '02-06-2018', '03-06-2018', '04-06-2018',\n",
              "       '05-06-2018', '10-06-2018', '11-06-2018', '13-06-2018',\n",
              "       '20-06-2018', '08-07-2018', '13-07-2018', '15-07-2018',\n",
              "       '16-07-2018', '17-07-2018', '21-07-2018', '23-07-2018',\n",
              "       '26-07-2018', '2018-07-28', '09-08-2018', '10-08-2018',\n",
              "       '11-08-2018', '12-08-2018', '14-08-2018', '17-08-2018',\n",
              "       '20-08-2018', '22-08-2018', '24-08-2018', '28-08-2018',\n",
              "       '29-08-2018', '03-09-2018', '05-09-2018', '07-09-2018',\n",
              "       '15-09-2018', '16-09-2018', '17-09-2018', '19-09-2018',\n",
              "       '20-09-2018', '23-09-2018', '25-09-2018', '2018-09-27',\n",
              "       '2018-10-01', '2018-10-02', '2018-10-04', '2018-10-06',\n",
              "       '2018-10-07', '2018-10-08', '2018-10-11', '2018-10-17',\n",
              "       '2018-10-24', '2018-10-27', '2018-11-02', '2018-11-09',\n",
              "       '2018-11-12', '2018-11-14', '2018-11-15', '2018-11-16',\n",
              "       '2018-11-17', '2018-11-23', '2018-11-24', '2018-11-25',\n",
              "       '2018-11-26', '2018-11-27', '2018-11-28', '2018-11-30',\n",
              "       '2018-12-01', '2018-12-02', '2018-12-04', '2018-12-07',\n",
              "       '2018-12-09', '2018-12-11', '2018-12-12', '2018-12-13',\n",
              "       '2018-12-14', '2018-12-15', '2018-12-16', '2018-12-19',\n",
              "       '2018-12-20', '2018-12-21', '2018-12-22', '2018-12-24',\n",
              "       '2018-12-25', '2018-12-26', '2018-12-27', '2018-12-28',\n",
              "       '20-05-2013', '23-03-2013'], dtype=object)"
            ]
          },
          "execution_count": 47,
          "metadata": {},
          "output_type": "execute_result"
        }
      ],
      "source": [
        "test_date.unique()"
      ]
    },
    {
      "cell_type": "code",
      "execution_count": 48,
      "metadata": {
        "colab": {
          "base_uri": "https://localhost:8080/"
        },
        "id": "5f44IbwkAX2O",
        "outputId": "58c841a0-3671-465b-e278-e1533e38f900"
      },
      "outputs": [
        {
          "data": {
            "text/plain": [
              "array(['20-01-2004', '24-01-2004', '25-01-2004', '29-01-2004',\n",
              "       '20-02-2004', '23-02-2004', '24-03-2004', '29-03-2004',\n",
              "       '02-04-2004', '08-04-2004', '21-05-2004', '19-09-2004',\n",
              "       '28-10-2004', '08-11-2004', '28-11-2004', '05-03-2005',\n",
              "       '17-03-2005', '02-04-2005', '13-05-2005', '27-06-2005',\n",
              "       '30-09-2005', '06-11-2005', '01-12-2005', '02-12-2005',\n",
              "       '13-12-2005', '02-01-2006', '12-01-2006', '01-03-2006',\n",
              "       '12-03-2006', '14-03-2006', '28-03-2006', '16-04-2006',\n",
              "       '09-05-2006', '18-05-2006', '12-06-2006', '22-09-2006',\n",
              "       '06-10-2006', '09-10-2006', '13-10-2006', '18-10-2006',\n",
              "       '02-11-2006', '13-11-2006', '16-12-2006', '14-03-2007',\n",
              "       '27-06-2007', '11-07-2007', '12-07-2007', '20-07-2007',\n",
              "       '24-07-2007', '26-07-2007', '30-07-2007', '10-08-2007',\n",
              "       '01-09-2007', '19-09-2007', '16-10-2007', '23-10-2007',\n",
              "       '25-11-2007', '04-01-2008', '11-01-2008', '01-05-2008',\n",
              "       '08-05-2008', '02-06-2008', '13-06-2008', '18-06-2008',\n",
              "       '20-06-2008', '22-06-2008', '19-07-2008', '23-07-2008',\n",
              "       '29-07-2008', '01-10-2008', '14-10-2008', '26-01-2009',\n",
              "       '22-02-2009', '26-02-2009', '27-02-2009', '09-03-2009',\n",
              "       '14-03-2009', '08-05-2009', '27-05-2009', '28-05-2009',\n",
              "       '06-06-2009', '11-06-2009', '15-06-2009', '16-06-2009',\n",
              "       '09-07-2009', '10-07-2009', '11-08-2009', '16-08-2009',\n",
              "       '26-08-2009', '14-09-2009', '17-09-2009', '01-10-2009',\n",
              "       '08-10-2009', '11-10-2009', '23-10-2009', '26-10-2009',\n",
              "       '07-11-2009', '12-11-2009', '28-11-2009', '30-11-2009',\n",
              "       '31-12-2009', '01-01-2010', '05-01-2010', '26-02-2010',\n",
              "       '04-03-2010', '15-03-2010', '24-03-2010', '29-03-2010',\n",
              "       '07-04-2010', '16-04-2010', '18-04-2010', '19-04-2010',\n",
              "       '23-04-2010', '24-04-2010', '25-04-2010', '27-04-2010',\n",
              "       '03-05-2010', '27-05-2010', '17-07-2010', '01-08-2010',\n",
              "       '02-08-2010', '03-08-2010', '13-08-2010', '02-09-2010',\n",
              "       '23-09-2010', '25-09-2010', '27-09-2010', '07-10-2010',\n",
              "       '09-10-2010', '12-10-2010', '21-10-2010', '24-10-2010',\n",
              "       '25-10-2010', '26-10-2010', '09-11-2010', '14-11-2010',\n",
              "       '23-11-2010', '28-11-2010', '29-11-2010', '30-11-2010',\n",
              "       '02-12-2010', '04-12-2010', '16-12-2010', '17-12-2010',\n",
              "       '19-12-2010', '21-12-2010', '22-12-2010', '23-12-2010',\n",
              "       '03-01-2011', '05-01-2011', '06-01-2011', '07-01-2011',\n",
              "       '09-01-2011', '12-01-2011', '13-01-2011', '16-01-2011',\n",
              "       '17-01-2011', '26-01-2011', '27-01-2011', '29-01-2011',\n",
              "       '30-01-2011', '02-02-2011', '14-02-2011', '20-03-2011',\n",
              "       '28-03-2011', '02-04-2011', '05-04-2011', '14-04-2011',\n",
              "       '25-04-2011', '05-05-2011', '11-05-2011', '2011-05-31',\n",
              "       '20-06-2011', '07-07-2011', '11-07-2011', '07-08-2011',\n",
              "       '09-08-2011', '19-08-2011', '09-09-2011', '14-09-2011',\n",
              "       '16-09-2011', '24-09-2011', '05-10-2011', '18-10-2011',\n",
              "       '06-11-2011', '18-11-2011', '19-11-2011', '14-12-2011',\n",
              "       '21-12-2011', '23-12-2011', '31-12-2011', '05-01-2012',\n",
              "       '11-01-2012', '14-01-2012', '23-01-2012', '11-02-2012',\n",
              "       '13-02-2012', '12-04-2012', '27-04-2012', '30-04-2012',\n",
              "       '02-05-2012', '06-05-2012', '15-05-2012', '19-05-2012',\n",
              "       '31-05-2012', '07-06-2012', '13-06-2012', '17-06-2012',\n",
              "       '22-06-2012', '22-07-2012', '15-08-2012', '18-08-2012',\n",
              "       '13-09-2012', '26-09-2012', '07-10-2012', '12-10-2012',\n",
              "       '20-10-2012', '12-11-2012', '18-11-2012', '28-11-2012',\n",
              "       '03-12-2012', '04-12-2012', '2013-01-16', '2013-01-29',\n",
              "       '2013-01-30', '2013-02-10', '2013-02-22', '2013-03-05',\n",
              "       '2013-03-11', '2013-04-14', '2013-04-16', '2013-04-22',\n",
              "       '2013-05-21', '2013-06-03', '2013-06-04', '2013-06-13',\n",
              "       '2013-06-19', '2013-07-08', '2013-07-09', '2013-07-13',\n",
              "       '2013-07-25', '2013-08-21', '2013-09-05', '2013-09-12',\n",
              "       '2013-09-14', '2013-10-10', '2013-10-16', '2013-10-22',\n",
              "       '2013-11-11', '2013-11-12', '2013-11-21', '2013-11-23',\n",
              "       '2013-11-25', '2013-11-26', '2013-11-28', '2013-12-23',\n",
              "       '2013-12-26', '26-12-2013', '01-01-2014', '19-01-2014',\n",
              "       '20-01-2014', '21-01-2014', '2014-01-24', '01-02-2014',\n",
              "       '15-02-2014', '26-02-2014', '02-03-2014', '07-03-2014',\n",
              "       '09-03-2014', '18-03-2014', '01-04-2014', '18-04-2014',\n",
              "       '19-04-2014', '02-05-2014', '09-05-2014', '01-06-2014',\n",
              "       '02-06-2014', '19-06-2014', '14-07-2014', '31-07-2014',\n",
              "       '02-08-2014', '07-08-2014', '18-08-2014', '20-08-2014',\n",
              "       '06-09-2014', '08-09-2014', '19-09-2014', '03-10-2014',\n",
              "       '18-10-2014', '21-10-2014', '31-10-2014', '18-11-2014',\n",
              "       '20-11-2014', '21-11-2014', '22-11-2014', '23-11-2014',\n",
              "       '24-11-2014', '29-11-2014', '2015-01-04', '2015-01-15',\n",
              "       '2015-01-29', '2015-01-30', '2015-02-03', '2015-02-13',\n",
              "       '2015-03-14', '2015-03-21', '2015-04-09', '2015-04-10',\n",
              "       '2015-04-13', '2015-04-20', '2015-05-15', '2015-05-23',\n",
              "       '2015-06-12', '2015-06-15', '2015-06-18', '2015-06-19',\n",
              "       '2015-06-22', '2015-06-26', '2015-07-01', '2015-07-04',\n",
              "       '2015-07-05', '2015-07-06', '2015-07-14', '2015-07-16',\n",
              "       '2015-07-17', '2015-07-19', '2015-08-13', '2015-08-15',\n",
              "       '2015-08-31', '2015-09-03', '2015-09-08', '2015-09-11',\n",
              "       '2015-09-12', '2015-09-14', '2015-09-20', '2015-09-22',\n",
              "       '2015-10-07', '2015-10-11', '2015-10-14', '2015-10-15',\n",
              "       '2015-10-20', '2015-10-25', '2015-10-30', '2015-11-02',\n",
              "       '2015-11-03', '2015-11-10', '2015-11-12', '2015-11-17',\n",
              "       '2015-11-21', '2015-11-22', '2015-11-25', '2015-11-27',\n",
              "       '2015-11-28', '2015-11-30', '2015-12-04', '2015-12-09',\n",
              "       '2015-12-13', '2015-12-16', '2015-12-27', '02-01-2016',\n",
              "       '06-01-2016', '10-01-2016', '18-01-2016', '20-01-2016',\n",
              "       '24-01-2016', '27-01-2016', '28-01-2016', '30-01-2016',\n",
              "       '02-02-2016', '03-02-2016', '10-02-2016', '15-02-2016',\n",
              "       '16-02-2016', '17-02-2016', '28-02-2016', '29-02-2016',\n",
              "       '01-03-2016', '06-03-2016', '09-03-2016', '11-03-2016',\n",
              "       '21-03-2016', '22-03-2016', '25-03-2016', '27-03-2016',\n",
              "       '07-04-2016', '11-04-2016', '16-04-2016', '20-05-2016',\n",
              "       '22-05-2016', '29-05-2016', '30-05-2016', '06-06-2016',\n",
              "       '07-06-2016', '11-06-2016', '15-06-2016', '18-06-2016',\n",
              "       '19-06-2016', '21-06-2016', '26-06-2016', '05-07-2016',\n",
              "       '06-07-2016', '12-07-2016', '14-07-2016', '19-07-2016',\n",
              "       '25-07-2016', '26-07-2016', '07-08-2016', '10-08-2016',\n",
              "       '18-08-2016', '21-08-2016', '24-08-2016', '26-08-2016',\n",
              "       '31-08-2016', '05-09-2016', '16-09-2016', '17-09-2016',\n",
              "       '18-09-2016', '23-09-2016', '09-10-2016', '13-10-2016',\n",
              "       '28-10-2016', '05-11-2016', '09-11-2016', '22-11-2016',\n",
              "       '23-11-2016', '28-11-2016', '30-11-2016', '07-12-2016',\n",
              "       '17-12-2016', '24-12-2016', '2016-12-26', '2017-01-01',\n",
              "       '2017-01-02', '2017-01-05', '2017-01-06', '2017-01-09',\n",
              "       '2017-01-17', '2017-01-18', '2017-01-25', '2017-01-26',\n",
              "       '2017-01-29', '2017-01-31', '2017-02-03', '2017-02-08',\n",
              "       '2017-02-15', '2017-02-24', '2017-02-25', '2017-02-26',\n",
              "       '2017-03-04', '2017-03-08', '2017-03-13', '2017-03-18',\n",
              "       '2017-03-20', '2017-03-21', '2017-03-22', '2017-03-31',\n",
              "       '2017-04-01', '2017-04-03', '2017-04-05', '2017-04-07',\n",
              "       '2017-04-10', '2017-04-11', '2017-04-13', '2017-04-16',\n",
              "       '2017-04-17', '2017-04-22', '2017-04-25', '2017-05-01',\n",
              "       '2017-05-03', '2017-05-05', '2017-05-06', '2017-05-07',\n",
              "       '2017-05-10', '2017-05-15', '2017-05-19', '2017-05-21',\n",
              "       '2017-05-24', '2017-05-25', '25-05-2017', '2017-05-27',\n",
              "       '2017-05-28', '2017-05-30', '2017-06-03', '2017-06-07',\n",
              "       '2017-06-08', '2017-06-09', '2017-06-10', '2017-06-13',\n",
              "       '2017-06-14', '2017-06-15', '2017-06-19', '2017-06-21',\n",
              "       '2017-06-27', '08-07-2017', '20-07-2017', '22-07-2017',\n",
              "       '25-07-2017', '30-07-2017', '01-08-2017', '04-08-2017',\n",
              "       '05-08-2017', '10-08-2017', '11-08-2017', '14-08-2017',\n",
              "       '15-08-2017', '18-08-2017', '19-08-2017', '20-08-2017',\n",
              "       '22-08-2017', '23-08-2017', '24-08-2017', '25-08-2017',\n",
              "       '26-08-2017', '29-08-2017', '31-08-2017', '01-09-2017',\n",
              "       '03-09-2017', '06-09-2017', '09-09-2017', '11-09-2017',\n",
              "       '12-09-2017', '16-09-2017', '17-09-2017', '18-09-2017',\n",
              "       '19-09-2017', '20-09-2017', '22-09-2017', '28-09-2017',\n",
              "       '01-10-2017', '06-10-2017', '08-10-2017', '10-10-2017',\n",
              "       '11-10-2017', '12-10-2017', '13-10-2017', '14-10-2017',\n",
              "       '15-10-2017', '16-10-2017', '18-10-2017', '19-10-2017',\n",
              "       '21-10-2017', '22-10-2017', '23-10-2017', '24-10-2017',\n",
              "       '28-10-2017', '30-10-2017', '01-11-2017', '02-11-2017',\n",
              "       '05-11-2017', '06-11-2017', '09-11-2017', '12-11-2017',\n",
              "       '13-11-2017', '14-11-2017', '15-11-2017', '16-11-2017',\n",
              "       '17-11-2017', '20-11-2017', '21-11-2017', '24-11-2017',\n",
              "       '2017-11-25', '25-11-2017', '26-11-2017', '27-11-2017',\n",
              "       '28-11-2017', '29-11-2017', '03-12-2017', '05-12-2017',\n",
              "       '07-12-2017', '09-12-2017', '11-12-2017', '12-12-2017',\n",
              "       '13-12-2017', '20-12-2017', '21-12-2017', '02-01-2018',\n",
              "       '09-01-2018', '10-01-2018', '11-01-2018', '12-01-2018',\n",
              "       '13-01-2018', '16-01-2018', '25-01-2018', '27-01-2018',\n",
              "       '01-02-2018', '10-02-2018', '12-02-2018', '13-02-2018',\n",
              "       '17-02-2018', '21-02-2018', '22-02-2018', '26-02-2018',\n",
              "       '12-03-2018', '14-03-2018', '29-03-2018', '09-04-2018',\n",
              "       '10-04-2018', '15-04-2018', '19-04-2018', '02-05-2018',\n",
              "       '03-05-2018', '05-05-2018', '16-05-2018', '21-05-2018',\n",
              "       '29-05-2018', '02-06-2018', '03-06-2018', '04-06-2018',\n",
              "       '05-06-2018', '10-06-2018', '11-06-2018', '13-06-2018',\n",
              "       '20-06-2018', '08-07-2018', '13-07-2018', '15-07-2018',\n",
              "       '16-07-2018', '17-07-2018', '21-07-2018', '23-07-2018',\n",
              "       '26-07-2018', '2018-07-28', '09-08-2018', '10-08-2018',\n",
              "       '11-08-2018', '12-08-2018', '14-08-2018', '17-08-2018',\n",
              "       '20-08-2018', '22-08-2018', '24-08-2018', '28-08-2018',\n",
              "       '29-08-2018', '03-09-2018', '05-09-2018', '07-09-2018',\n",
              "       '15-09-2018', '16-09-2018', '17-09-2018', '19-09-2018',\n",
              "       '20-09-2018', '23-09-2018', '25-09-2018', '2018-09-27',\n",
              "       '2018-10-01', '2018-10-02', '2018-10-04', '2018-10-06',\n",
              "       '2018-10-07', '2018-10-08', '2018-10-11', '2018-10-17',\n",
              "       '2018-10-24', '2018-10-27', '2018-11-02', '2018-11-09',\n",
              "       '2018-11-12', '2018-11-14', '2018-11-15', '2018-11-16',\n",
              "       '2018-11-17', '2018-11-23', '2018-11-24', '2018-11-25',\n",
              "       '2018-11-26', '2018-11-27', '2018-11-28', '2018-11-30',\n",
              "       '2018-12-01', '2018-12-02', '2018-12-04', '2018-12-07',\n",
              "       '2018-12-09', '2018-12-11', '2018-12-12', '2018-12-13',\n",
              "       '2018-12-14', '2018-12-15', '2018-12-16', '2018-12-19',\n",
              "       '2018-12-20', '2018-12-21', '2018-12-22', '2018-12-24',\n",
              "       '2018-12-25', '2018-12-26', '2018-12-27', '2018-12-28',\n",
              "       '20-05-2013', '23-03-2013'], dtype=object)"
            ]
          },
          "execution_count": 48,
          "metadata": {},
          "output_type": "execute_result"
        }
      ],
      "source": [
        "test_date = test_date.str.replace('/','-')\n",
        "test_date.unique()"
      ]
    },
    {
      "cell_type": "code",
      "execution_count": 49,
      "metadata": {
        "colab": {
          "base_uri": "https://localhost:8080/"
        },
        "id": "L2bfm_5J4x74",
        "outputId": "c4d23206-87b5-48cb-b917-405124c59195"
      },
      "outputs": [
        {
          "data": {
            "text/plain": [
              "0      2004-01-20\n",
              "1      2004-01-24\n",
              "2      2004-01-25\n",
              "3      2004-01-29\n",
              "4      2004-01-29\n",
              "          ...    \n",
              "830    2018-12-28\n",
              "831    2013-05-20\n",
              "832    2013-03-23\n",
              "833    2009-01-26\n",
              "834    2009-01-26\n",
              "Name: Date (Event), Length: 833, dtype: object"
            ]
          },
          "execution_count": 49,
          "metadata": {},
          "output_type": "execute_result"
        }
      ],
      "source": [
        "test_date =  pd.to_datetime(test_date, format=\"%d-%m-%Y\", errors=\"coerce\").fillna(pd.to_datetime(test_date, format=\"%Y-%m-%d\", errors=\"coerce\"))\n",
        "test_date = test_date.dt.date\n",
        "test_date"
      ]
    },
    {
      "cell_type": "markdown",
      "metadata": {},
      "source": [
        "# Common Words for search\n",
        "https://stackoverflow.com/questions/2452982/how-to-extract-common-significant-phrases-from-a-series-of-text-entries"
      ]
    },
    {
      "cell_type": "code",
      "execution_count": 50,
      "metadata": {},
      "outputs": [],
      "source": [
        "common_words = ['it', 'is', 'not', 'a', 'but', 'on', 'the', 'in', 'all', 'ways','of', 'to', 'and', 'was', 'by', 'that', 'for', 'at', 'were', 'an', 'have', 'said','are', 'been', 'had', 'with', 'from', 'as', 'he', 'has', 'its', 'be', 'they', 'after','one','two','three','four','1','2','3','4','male','female']\n",
        "common_set = set(common_words)"
      ]
    },
    {
      "cell_type": "code",
      "execution_count": 51,
      "metadata": {},
      "outputs": [],
      "source": [
        "title_eda = train['Title'].replace(to_replace='\\(', value=\"\", regex=True)\n",
        "title_eda = title_eda.replace(to_replace='\\)', value=\"\", regex=True)\n",
        "title_eda = title_eda.replace(to_replace='\\,', value=\"\", regex=True)"
      ]
    },
    {
      "cell_type": "code",
      "execution_count": 52,
      "metadata": {},
      "outputs": [
        {
          "data": {
            "text/plain": [
              "elephant         446\n",
              "india            399\n",
              "found            183\n",
              "dead             164\n",
              "electrocuted     152\n",
              "elephants        147\n",
              "tusker           102\n",
              "wild              93\n",
              "state             87\n",
              "dies              86\n",
              "jumbo             84\n",
              "district          71\n",
              "forest            64\n",
              "killed            58\n",
              "calf              57\n",
              "death             54\n",
              "sri               53\n",
              "lanka             51\n",
              "carcass           40\n",
              "odisha            39\n",
              "poachers          39\n",
              "indonesia         36\n",
              "jumbos            35\n",
              "assam             35\n",
              "shot              34\n",
              "tusks             34\n",
              "another           32\n",
              "near              29\n",
              "thailand          25\n",
              "injured           25\n",
              "tamil             24\n",
              "nadu              24\n",
              "electrocution     23\n",
              "sumatran          22\n",
              "suspected         21\n",
              "officials         21\n",
              "deaths            20\n",
              "kill              20\n",
              "electric          19\n",
              "kills             19\n",
              "wildlife          17\n",
              "poisoned          17\n",
              "villagers         16\n",
              "into              16\n",
              "malaysia          15\n",
              "reserve           15\n",
              "ivory             15\n",
              "jharkhand         15\n",
              "die               15\n",
              "wire              14\n",
              "bengal            14\n",
              "more              13\n",
              "dtype: int64"
            ]
          },
          "execution_count": 52,
          "metadata": {},
          "output_type": "execute_result"
        }
      ],
      "source": [
        "frequent_title = pd.Series(' '.join(title_eda).lower().split()).value_counts()[:70]\n",
        "frequent_title[[s for s in frequent_title.index if not s in common_set]]"
      ]
    },
    {
      "cell_type": "markdown",
      "metadata": {},
      "source": [
        "# Saving as .txt for google cloud auto ml"
      ]
    },
    {
      "cell_type": "code",
      "execution_count": 55,
      "metadata": {},
      "outputs": [],
      "source": [
        "i = 0\n",
        "for row in train['Article']:\n",
        "    if i > len(train['Article']):\n",
        "       break\n",
        "    else:\n",
        "       f = open(str(i)+'.txt', 'w')\n",
        "       f.write(row)\n",
        "       f.close()\n",
        "       i+=1"
      ]
    },
    {
      "cell_type": "markdown",
      "metadata": {
        "id": "bOCcgoONFCd2"
      },
      "source": [
        "# Import various news data to add to training data"
      ]
    },
    {
      "cell_type": "code",
      "execution_count": null,
      "metadata": {
        "colab": {
          "base_uri": "https://localhost:8080/"
        },
        "id": "zxBWdBD5FAlA",
        "outputId": "63e60330-8542-4701-dae2-24c347b4992f"
      },
      "outputs": [
        {
          "name": "stdout",
          "output_type": "stream",
          "text": [
            "Archive:  /content/drive/MyDrive/all-the-news-2-1.zip\n",
            "  inflating: /content/all-the-news-2-1.csv  \n"
          ]
        }
      ],
      "source": [
        "!unzip /content/drive/MyDrive/all-the-news-2-1.zip -d /content/\n",
        "#all_news = pd.read_csv(\"/content/all-the-news-2-1.csv\", sep=',', usecols=['publication','article','date','title'])\n",
        "all_news = pd.read_csv(\"/content/all-the-news-2-1.csv\", sep=',', usecols=['article'])"
      ]
    },
    {
      "cell_type": "code",
      "execution_count": null,
      "metadata": {
        "colab": {
          "base_uri": "https://localhost:8080/",
          "height": 337
        },
        "id": "Y7WF3hN9YOpr",
        "outputId": "3d88504e-1e4a-43e7-850c-20570fb1fc2d"
      },
      "outputs": [
        {
          "data": {
            "text/html": [
              "\n",
              "  <div id=\"df-6b77b120-7eb8-4cb3-b4ce-88cffe965abc\">\n",
              "    <div class=\"colab-df-container\">\n",
              "      <div>\n",
              "<style scoped>\n",
              "    .dataframe tbody tr th:only-of-type {\n",
              "        vertical-align: middle;\n",
              "    }\n",
              "\n",
              "    .dataframe tbody tr th {\n",
              "        vertical-align: top;\n",
              "    }\n",
              "\n",
              "    .dataframe thead th {\n",
              "        text-align: right;\n",
              "    }\n",
              "</style>\n",
              "<table border=\"1\" class=\"dataframe\">\n",
              "  <thead>\n",
              "    <tr style=\"text-align: right;\">\n",
              "      <th></th>\n",
              "      <th>Article</th>\n",
              "    </tr>\n",
              "  </thead>\n",
              "  <tbody>\n",
              "    <tr>\n",
              "      <th>0</th>\n",
              "      <td>This post is part of Polyarchy, an independent blog produced by the political reform program at New America, a Washington think tank devoted to developing new ideas and new voices. Imagine you are an otherwise healthy 30-something who starts feeling weird. You are sometimes short of breath. You get migraines. Your feet start to swell a little. But otherwise, everything seems fine. You go to th...</td>\n",
              "    </tr>\n",
              "    <tr>\n",
              "      <th>1</th>\n",
              "      <td>The Indianapolis Colts made Andrew Luck the highest-paid player in NFL history this offseason with a five-year, $122-million contract with $89 million guaranteed. However, they're already finding that Luck's contract is inhibiting their ability to address weaknesses on other parts of the roster, particularly on defense. On Friday, Colts GM Ryan Grigson, who is under fire for the Colts 1-3 sta...</td>\n",
              "    </tr>\n",
              "    <tr>\n",
              "      <th>2</th>\n",
              "      <td>DAVOS, Switzerland (Reuters) - U.S. President Donald Trump denied a report on Friday that he had ordered Special Counsel Robert Mueller fired last June, calling it “fake news”.  The New York Times reported on Thursday that Trump backed down from his order after the White House counsel threatened to resign rather than follow his directive, citing four people told of the matter.  “Fake news, fol...</td>\n",
              "    </tr>\n",
              "    <tr>\n",
              "      <th>3</th>\n",
              "      <td>PARIS (Reuters) - Former French president Nicolas Sarkozy published a new memoir on Thursday but was quick to dismiss speculation he might return to politics to rescue his old center-right party, which has shed support since President Emmanuel Macron stormed to power.  Entitled “Passions”, the autobiography documents Sarkozy’s rise to power, while hurling barbs at some of his former allies, in...</td>\n",
              "    </tr>\n",
              "    <tr>\n",
              "      <th>4</th>\n",
              "      <td>Paris Hilton arrived at LAX Wednesday dressed to pay her last respects to her uncle Monty Brinson. Paris flew in from Switzerland especially for the funeral of Brinson, who used to be married to her aunt Kim Richards. Monty died Sunday after a long battle with cancer ... and the loss is obviously hitting Paris hard. She posted a picture collage with Monty calling him an \"incredible man with su...</td>\n",
              "    </tr>\n",
              "  </tbody>\n",
              "</table>\n",
              "</div>\n",
              "      <button class=\"colab-df-convert\" onclick=\"convertToInteractive('df-6b77b120-7eb8-4cb3-b4ce-88cffe965abc')\"\n",
              "              title=\"Convert this dataframe to an interactive table.\"\n",
              "              style=\"display:none;\">\n",
              "        \n",
              "  <svg xmlns=\"http://www.w3.org/2000/svg\" height=\"24px\"viewBox=\"0 0 24 24\"\n",
              "       width=\"24px\">\n",
              "    <path d=\"M0 0h24v24H0V0z\" fill=\"none\"/>\n",
              "    <path d=\"M18.56 5.44l.94 2.06.94-2.06 2.06-.94-2.06-.94-.94-2.06-.94 2.06-2.06.94zm-11 1L8.5 8.5l.94-2.06 2.06-.94-2.06-.94L8.5 2.5l-.94 2.06-2.06.94zm10 10l.94 2.06.94-2.06 2.06-.94-2.06-.94-.94-2.06-.94 2.06-2.06.94z\"/><path d=\"M17.41 7.96l-1.37-1.37c-.4-.4-.92-.59-1.43-.59-.52 0-1.04.2-1.43.59L10.3 9.45l-7.72 7.72c-.78.78-.78 2.05 0 2.83L4 21.41c.39.39.9.59 1.41.59.51 0 1.02-.2 1.41-.59l7.78-7.78 2.81-2.81c.8-.78.8-2.07 0-2.86zM5.41 20L4 18.59l7.72-7.72 1.47 1.35L5.41 20z\"/>\n",
              "  </svg>\n",
              "      </button>\n",
              "      \n",
              "  <style>\n",
              "    .colab-df-container {\n",
              "      display:flex;\n",
              "      flex-wrap:wrap;\n",
              "      gap: 12px;\n",
              "    }\n",
              "\n",
              "    .colab-df-convert {\n",
              "      background-color: #E8F0FE;\n",
              "      border: none;\n",
              "      border-radius: 50%;\n",
              "      cursor: pointer;\n",
              "      display: none;\n",
              "      fill: #1967D2;\n",
              "      height: 32px;\n",
              "      padding: 0 0 0 0;\n",
              "      width: 32px;\n",
              "    }\n",
              "\n",
              "    .colab-df-convert:hover {\n",
              "      background-color: #E2EBFA;\n",
              "      box-shadow: 0px 1px 2px rgba(60, 64, 67, 0.3), 0px 1px 3px 1px rgba(60, 64, 67, 0.15);\n",
              "      fill: #174EA6;\n",
              "    }\n",
              "\n",
              "    [theme=dark] .colab-df-convert {\n",
              "      background-color: #3B4455;\n",
              "      fill: #D2E3FC;\n",
              "    }\n",
              "\n",
              "    [theme=dark] .colab-df-convert:hover {\n",
              "      background-color: #434B5C;\n",
              "      box-shadow: 0px 1px 3px 1px rgba(0, 0, 0, 0.15);\n",
              "      filter: drop-shadow(0px 1px 2px rgba(0, 0, 0, 0.3));\n",
              "      fill: #FFFFFF;\n",
              "    }\n",
              "  </style>\n",
              "\n",
              "      <script>\n",
              "        const buttonEl =\n",
              "          document.querySelector('#df-6b77b120-7eb8-4cb3-b4ce-88cffe965abc button.colab-df-convert');\n",
              "        buttonEl.style.display =\n",
              "          google.colab.kernel.accessAllowed ? 'block' : 'none';\n",
              "\n",
              "        async function convertToInteractive(key) {\n",
              "          const element = document.querySelector('#df-6b77b120-7eb8-4cb3-b4ce-88cffe965abc');\n",
              "          const dataTable =\n",
              "            await google.colab.kernel.invokeFunction('convertToInteractive',\n",
              "                                                     [key], {});\n",
              "          if (!dataTable) return;\n",
              "\n",
              "          const docLinkHtml = 'Like what you see? Visit the ' +\n",
              "            '<a target=\"_blank\" href=https://colab.research.google.com/notebooks/data_table.ipynb>data table notebook</a>'\n",
              "            + ' to learn more about interactive tables.';\n",
              "          element.innerHTML = '';\n",
              "          dataTable['output_type'] = 'display_data';\n",
              "          await google.colab.output.renderOutput(dataTable, element);\n",
              "          const docLink = document.createElement('div');\n",
              "          docLink.innerHTML = docLinkHtml;\n",
              "          element.appendChild(docLink);\n",
              "        }\n",
              "      </script>\n",
              "    </div>\n",
              "  </div>\n",
              "  "
            ],
            "text/plain": [
              "                                                                                                                                                                                                                                                                                                                                                                                                           Article\n",
              "0  This post is part of Polyarchy, an independent blog produced by the political reform program at New America, a Washington think tank devoted to developing new ideas and new voices. Imagine you are an otherwise healthy 30-something who starts feeling weird. You are sometimes short of breath. You get migraines. Your feet start to swell a little. But otherwise, everything seems fine. You go to th...\n",
              "1   The Indianapolis Colts made Andrew Luck the highest-paid player in NFL history this offseason with a five-year, $122-million contract with $89 million guaranteed. However, they're already finding that Luck's contract is inhibiting their ability to address weaknesses on other parts of the roster, particularly on defense. On Friday, Colts GM Ryan Grigson, who is under fire for the Colts 1-3 sta...\n",
              "2  DAVOS, Switzerland (Reuters) - U.S. President Donald Trump denied a report on Friday that he had ordered Special Counsel Robert Mueller fired last June, calling it “fake news”.  The New York Times reported on Thursday that Trump backed down from his order after the White House counsel threatened to resign rather than follow his directive, citing four people told of the matter.  “Fake news, fol...\n",
              "3  PARIS (Reuters) - Former French president Nicolas Sarkozy published a new memoir on Thursday but was quick to dismiss speculation he might return to politics to rescue his old center-right party, which has shed support since President Emmanuel Macron stormed to power.  Entitled “Passions”, the autobiography documents Sarkozy’s rise to power, while hurling barbs at some of his former allies, in...\n",
              "4  Paris Hilton arrived at LAX Wednesday dressed to pay her last respects to her uncle Monty Brinson. Paris flew in from Switzerland especially for the funeral of Brinson, who used to be married to her aunt Kim Richards. Monty died Sunday after a long battle with cancer ... and the loss is obviously hitting Paris hard. She posted a picture collage with Monty calling him an \"incredible man with su..."
            ]
          },
          "execution_count": 25,
          "metadata": {},
          "output_type": "execute_result"
        }
      ],
      "source": [
        "#all_news['date'] =  pd.to_datetime(all_news['date'], format=\"%Y-%m-%d %H:%M:%S\", errors=\"coerce\")\n",
        "#all_news['date'] = all_news['date'].dt.date\n",
        "#all_news.rename(columns={'date': 'Date Published', 'title': 'Title', 'article': 'Article', 'publication': 'Source', }, inplace=True)\n",
        "#all_news.rename(columns={'title': 'Title', 'article': 'Article'}, inplace=True)\n",
        "all_news.rename(columns={'article': 'Article'}, inplace=True)\n",
        "all_news.head()"
      ]
    },
    {
      "cell_type": "code",
      "execution_count": null,
      "metadata": {
        "colab": {
          "base_uri": "https://localhost:8080/",
          "height": 337
        },
        "id": "vkGzmH_dk7ni",
        "outputId": "e6160d7e-fa26-4a7e-eecc-c53f6f74ec0c"
      },
      "outputs": [
        {
          "data": {
            "text/html": [
              "\n",
              "  <div id=\"df-03b5e3d5-690a-40d5-9fb3-515d66408d02\">\n",
              "    <div class=\"colab-df-container\">\n",
              "      <div>\n",
              "<style scoped>\n",
              "    .dataframe tbody tr th:only-of-type {\n",
              "        vertical-align: middle;\n",
              "    }\n",
              "\n",
              "    .dataframe tbody tr th {\n",
              "        vertical-align: top;\n",
              "    }\n",
              "\n",
              "    .dataframe thead th {\n",
              "        text-align: right;\n",
              "    }\n",
              "</style>\n",
              "<table border=\"1\" class=\"dataframe\">\n",
              "  <thead>\n",
              "    <tr style=\"text-align: right;\">\n",
              "      <th></th>\n",
              "      <th>Article</th>\n",
              "      <th>Y</th>\n",
              "    </tr>\n",
              "  </thead>\n",
              "  <tbody>\n",
              "    <tr>\n",
              "      <th>0</th>\n",
              "      <td>This post is part of Polyarchy, an independent blog produced by the political reform program at New America, a Washington think tank devoted to developing new ideas and new voices. Imagine you are an otherwise healthy 30-something who starts feeling weird. You are sometimes short of breath. You get migraines. Your feet start to swell a little. But otherwise, everything seems fine. You go to th...</td>\n",
              "      <td>0</td>\n",
              "    </tr>\n",
              "    <tr>\n",
              "      <th>1</th>\n",
              "      <td>The Indianapolis Colts made Andrew Luck the highest-paid player in NFL history this offseason with a five-year, $122-million contract with $89 million guaranteed. However, they're already finding that Luck's contract is inhibiting their ability to address weaknesses on other parts of the roster, particularly on defense. On Friday, Colts GM Ryan Grigson, who is under fire for the Colts 1-3 sta...</td>\n",
              "      <td>0</td>\n",
              "    </tr>\n",
              "    <tr>\n",
              "      <th>2</th>\n",
              "      <td>DAVOS, Switzerland (Reuters) - U.S. President Donald Trump denied a report on Friday that he had ordered Special Counsel Robert Mueller fired last June, calling it “fake news”.  The New York Times reported on Thursday that Trump backed down from his order after the White House counsel threatened to resign rather than follow his directive, citing four people told of the matter.  “Fake news, fol...</td>\n",
              "      <td>0</td>\n",
              "    </tr>\n",
              "    <tr>\n",
              "      <th>3</th>\n",
              "      <td>PARIS (Reuters) - Former French president Nicolas Sarkozy published a new memoir on Thursday but was quick to dismiss speculation he might return to politics to rescue his old center-right party, which has shed support since President Emmanuel Macron stormed to power.  Entitled “Passions”, the autobiography documents Sarkozy’s rise to power, while hurling barbs at some of his former allies, in...</td>\n",
              "      <td>0</td>\n",
              "    </tr>\n",
              "    <tr>\n",
              "      <th>4</th>\n",
              "      <td>Paris Hilton arrived at LAX Wednesday dressed to pay her last respects to her uncle Monty Brinson. Paris flew in from Switzerland especially for the funeral of Brinson, who used to be married to her aunt Kim Richards. Monty died Sunday after a long battle with cancer ... and the loss is obviously hitting Paris hard. She posted a picture collage with Monty calling him an \"incredible man with su...</td>\n",
              "      <td>0</td>\n",
              "    </tr>\n",
              "  </tbody>\n",
              "</table>\n",
              "</div>\n",
              "      <button class=\"colab-df-convert\" onclick=\"convertToInteractive('df-03b5e3d5-690a-40d5-9fb3-515d66408d02')\"\n",
              "              title=\"Convert this dataframe to an interactive table.\"\n",
              "              style=\"display:none;\">\n",
              "        \n",
              "  <svg xmlns=\"http://www.w3.org/2000/svg\" height=\"24px\"viewBox=\"0 0 24 24\"\n",
              "       width=\"24px\">\n",
              "    <path d=\"M0 0h24v24H0V0z\" fill=\"none\"/>\n",
              "    <path d=\"M18.56 5.44l.94 2.06.94-2.06 2.06-.94-2.06-.94-.94-2.06-.94 2.06-2.06.94zm-11 1L8.5 8.5l.94-2.06 2.06-.94-2.06-.94L8.5 2.5l-.94 2.06-2.06.94zm10 10l.94 2.06.94-2.06 2.06-.94-2.06-.94-.94-2.06-.94 2.06-2.06.94z\"/><path d=\"M17.41 7.96l-1.37-1.37c-.4-.4-.92-.59-1.43-.59-.52 0-1.04.2-1.43.59L10.3 9.45l-7.72 7.72c-.78.78-.78 2.05 0 2.83L4 21.41c.39.39.9.59 1.41.59.51 0 1.02-.2 1.41-.59l7.78-7.78 2.81-2.81c.8-.78.8-2.07 0-2.86zM5.41 20L4 18.59l7.72-7.72 1.47 1.35L5.41 20z\"/>\n",
              "  </svg>\n",
              "      </button>\n",
              "      \n",
              "  <style>\n",
              "    .colab-df-container {\n",
              "      display:flex;\n",
              "      flex-wrap:wrap;\n",
              "      gap: 12px;\n",
              "    }\n",
              "\n",
              "    .colab-df-convert {\n",
              "      background-color: #E8F0FE;\n",
              "      border: none;\n",
              "      border-radius: 50%;\n",
              "      cursor: pointer;\n",
              "      display: none;\n",
              "      fill: #1967D2;\n",
              "      height: 32px;\n",
              "      padding: 0 0 0 0;\n",
              "      width: 32px;\n",
              "    }\n",
              "\n",
              "    .colab-df-convert:hover {\n",
              "      background-color: #E2EBFA;\n",
              "      box-shadow: 0px 1px 2px rgba(60, 64, 67, 0.3), 0px 1px 3px 1px rgba(60, 64, 67, 0.15);\n",
              "      fill: #174EA6;\n",
              "    }\n",
              "\n",
              "    [theme=dark] .colab-df-convert {\n",
              "      background-color: #3B4455;\n",
              "      fill: #D2E3FC;\n",
              "    }\n",
              "\n",
              "    [theme=dark] .colab-df-convert:hover {\n",
              "      background-color: #434B5C;\n",
              "      box-shadow: 0px 1px 3px 1px rgba(0, 0, 0, 0.15);\n",
              "      filter: drop-shadow(0px 1px 2px rgba(0, 0, 0, 0.3));\n",
              "      fill: #FFFFFF;\n",
              "    }\n",
              "  </style>\n",
              "\n",
              "      <script>\n",
              "        const buttonEl =\n",
              "          document.querySelector('#df-03b5e3d5-690a-40d5-9fb3-515d66408d02 button.colab-df-convert');\n",
              "        buttonEl.style.display =\n",
              "          google.colab.kernel.accessAllowed ? 'block' : 'none';\n",
              "\n",
              "        async function convertToInteractive(key) {\n",
              "          const element = document.querySelector('#df-03b5e3d5-690a-40d5-9fb3-515d66408d02');\n",
              "          const dataTable =\n",
              "            await google.colab.kernel.invokeFunction('convertToInteractive',\n",
              "                                                     [key], {});\n",
              "          if (!dataTable) return;\n",
              "\n",
              "          const docLinkHtml = 'Like what you see? Visit the ' +\n",
              "            '<a target=\"_blank\" href=https://colab.research.google.com/notebooks/data_table.ipynb>data table notebook</a>'\n",
              "            + ' to learn more about interactive tables.';\n",
              "          element.innerHTML = '';\n",
              "          dataTable['output_type'] = 'display_data';\n",
              "          await google.colab.output.renderOutput(dataTable, element);\n",
              "          const docLink = document.createElement('div');\n",
              "          docLink.innerHTML = docLinkHtml;\n",
              "          element.appendChild(docLink);\n",
              "        }\n",
              "      </script>\n",
              "    </div>\n",
              "  </div>\n",
              "  "
            ],
            "text/plain": [
              "                                                                                                                                                                                                                                                                                                                                                                                                           Article  \\\n",
              "0  This post is part of Polyarchy, an independent blog produced by the political reform program at New America, a Washington think tank devoted to developing new ideas and new voices. Imagine you are an otherwise healthy 30-something who starts feeling weird. You are sometimes short of breath. You get migraines. Your feet start to swell a little. But otherwise, everything seems fine. You go to th...   \n",
              "1   The Indianapolis Colts made Andrew Luck the highest-paid player in NFL history this offseason with a five-year, $122-million contract with $89 million guaranteed. However, they're already finding that Luck's contract is inhibiting their ability to address weaknesses on other parts of the roster, particularly on defense. On Friday, Colts GM Ryan Grigson, who is under fire for the Colts 1-3 sta...   \n",
              "2  DAVOS, Switzerland (Reuters) - U.S. President Donald Trump denied a report on Friday that he had ordered Special Counsel Robert Mueller fired last June, calling it “fake news”.  The New York Times reported on Thursday that Trump backed down from his order after the White House counsel threatened to resign rather than follow his directive, citing four people told of the matter.  “Fake news, fol...   \n",
              "3  PARIS (Reuters) - Former French president Nicolas Sarkozy published a new memoir on Thursday but was quick to dismiss speculation he might return to politics to rescue his old center-right party, which has shed support since President Emmanuel Macron stormed to power.  Entitled “Passions”, the autobiography documents Sarkozy’s rise to power, while hurling barbs at some of his former allies, in...   \n",
              "4  Paris Hilton arrived at LAX Wednesday dressed to pay her last respects to her uncle Monty Brinson. Paris flew in from Switzerland especially for the funeral of Brinson, who used to be married to her aunt Kim Richards. Monty died Sunday after a long battle with cancer ... and the loss is obviously hitting Paris hard. She posted a picture collage with Monty calling him an \"incredible man with su...   \n",
              "\n",
              "   Y  \n",
              "0  0  \n",
              "1  0  \n",
              "2  0  \n",
              "3  0  \n",
              "4  0  "
            ]
          },
          "execution_count": 26,
          "metadata": {},
          "output_type": "execute_result"
        }
      ],
      "source": [
        "all_news['Y'] = 0\n",
        "all_news.head()"
      ]
    },
    {
      "cell_type": "code",
      "execution_count": null,
      "metadata": {
        "colab": {
          "base_uri": "https://localhost:8080/",
          "height": 534
        },
        "id": "bdqKocwEkXlg",
        "outputId": "3b163fb4-8955-43f2-bc9c-3f942ee6bb54"
      },
      "outputs": [
        {
          "name": "stderr",
          "output_type": "stream",
          "text": [
            "/usr/local/lib/python3.7/dist-packages/ipykernel_launcher.py:1: SettingWithCopyWarning: \n",
            "A value is trying to be set on a copy of a slice from a DataFrame.\n",
            "Try using .loc[row_indexer,col_indexer] = value instead\n",
            "\n",
            "See the caveats in the documentation: https://pandas.pydata.org/pandas-docs/stable/user_guide/indexing.html#returning-a-view-versus-a-copy\n",
            "  \"\"\"Entry point for launching an IPython kernel.\n",
            "/usr/local/lib/python3.7/dist-packages/pandas/core/frame.py:4913: SettingWithCopyWarning: \n",
            "A value is trying to be set on a copy of a slice from a DataFrame\n",
            "\n",
            "See the caveats in the documentation: https://pandas.pydata.org/pandas-docs/stable/user_guide/indexing.html#returning-a-view-versus-a-copy\n",
            "  errors=errors,\n"
          ]
        },
        {
          "data": {
            "text/html": [
              "\n",
              "  <div id=\"df-ce4dcd9d-2ac3-4bdc-b1c0-46cb59171ec6\">\n",
              "    <div class=\"colab-df-container\">\n",
              "      <div>\n",
              "<style scoped>\n",
              "    .dataframe tbody tr th:only-of-type {\n",
              "        vertical-align: middle;\n",
              "    }\n",
              "\n",
              "    .dataframe tbody tr th {\n",
              "        vertical-align: top;\n",
              "    }\n",
              "\n",
              "    .dataframe thead th {\n",
              "        text-align: right;\n",
              "    }\n",
              "</style>\n",
              "<table border=\"1\" class=\"dataframe\">\n",
              "  <thead>\n",
              "    <tr style=\"text-align: right;\">\n",
              "      <th></th>\n",
              "      <th>Article</th>\n",
              "      <th>Y</th>\n",
              "    </tr>\n",
              "  </thead>\n",
              "  <tbody>\n",
              "    <tr>\n",
              "      <th>0</th>\n",
              "      <td>Asian elephants electrocuted after drinking session\\r\\nAnanova\\r\\nJanuary 20, 2004\\r\\n\\r\\nFour wild Asian elephants that got drunk on rice beer have been electrocuted \\r\\nin the northern Indian state of Meghalaya.\\r\\n\\r\\nA forest official said a herd of about 24 elephants went on the rampage in a \\r\\nremote area in the West Garo Hills district.\\r\\n\\r\\n\"The elephants, after getting high on rice...</td>\n",
              "      <td>1</td>\n",
              "    </tr>\n",
              "    <tr>\n",
              "      <th>1</th>\n",
              "      <td>2 HELD FOR ELEPHANTS ELECTROCUTION\\r\\nThe Hindu\\r\\nJanuary 27, 2004\\r\\n\\r\\nTwo farm assistants have been taken into custody by special teams of the \\r\\nForest department in connection with the electrocution of a tusker and a \\r\\nfemale elephant at two places in the Coimbatore reserve forest division. One \\r\\nincident was reported on Saturday night and the other on Sunday. The female \\r\\nelepha...</td>\n",
              "      <td>1</td>\n",
              "    </tr>\n",
              "    <tr>\n",
              "      <th>2</th>\n",
              "      <td>2 HELD FOR ELEPHANTS ELECTROCUTION\\r\\nThe Hindu\\r\\nJanuary 27, 2004\\r\\n\\r\\nTwo farm assistants have been taken into custody by special teams of the \\r\\nForest department in connection with the electrocution of a tusker and a \\r\\nfemale elephant at two places in the Coimbatore reserve forest division. One \\r\\nincident was reported on Saturday night and the other on Sunday. The female \\r\\nelepha...</td>\n",
              "      <td>1</td>\n",
              "    </tr>\n",
              "    <tr>\n",
              "      <th>3</th>\n",
              "      <td>TWO ELEPHANTS IN RIAU POISONED TO DEATH\\r\\nAntara - The Indonesian National News Agency\\r\\nJanuary 29, 2004\\r\\n\\r\\nPekanbaru, Jan 29 (ANTARA) - Two male elephants were found dead after being \\r\\npoisoned by unidentified persons at spot near the elephant training center \\r\\n(PTL) in Duri area, Bengkalis district, Riau, recently.\\r\\n\\r\\nChairman of a local non-governmental organization on wildli...</td>\n",
              "      <td>1</td>\n",
              "    </tr>\n",
              "    <tr>\n",
              "      <th>4</th>\n",
              "      <td>EXPERTS CALL FOR INVESTIGATION ON KILLING OF ELEPHANTS IN INDON PROVINCE\\r\\nAntara - The Indonesian National News Agency\\r\\nJanuary 29, 2004\\r\\n\\r\\nBandar Lampung, Lampung, Jan 29 (ANTARA) - A number of environmental \\r\\nactivists in Indonesia's Lampung province have urged concerned agencies to \\r\\nlook into the killing of four elephants at the Bukit Barisan National Park, \\r\\na spokesman has ...</td>\n",
              "      <td>1</td>\n",
              "    </tr>\n",
              "  </tbody>\n",
              "</table>\n",
              "</div>\n",
              "      <button class=\"colab-df-convert\" onclick=\"convertToInteractive('df-ce4dcd9d-2ac3-4bdc-b1c0-46cb59171ec6')\"\n",
              "              title=\"Convert this dataframe to an interactive table.\"\n",
              "              style=\"display:none;\">\n",
              "        \n",
              "  <svg xmlns=\"http://www.w3.org/2000/svg\" height=\"24px\"viewBox=\"0 0 24 24\"\n",
              "       width=\"24px\">\n",
              "    <path d=\"M0 0h24v24H0V0z\" fill=\"none\"/>\n",
              "    <path d=\"M18.56 5.44l.94 2.06.94-2.06 2.06-.94-2.06-.94-.94-2.06-.94 2.06-2.06.94zm-11 1L8.5 8.5l.94-2.06 2.06-.94-2.06-.94L8.5 2.5l-.94 2.06-2.06.94zm10 10l.94 2.06.94-2.06 2.06-.94-2.06-.94-.94-2.06-.94 2.06-2.06.94z\"/><path d=\"M17.41 7.96l-1.37-1.37c-.4-.4-.92-.59-1.43-.59-.52 0-1.04.2-1.43.59L10.3 9.45l-7.72 7.72c-.78.78-.78 2.05 0 2.83L4 21.41c.39.39.9.59 1.41.59.51 0 1.02-.2 1.41-.59l7.78-7.78 2.81-2.81c.8-.78.8-2.07 0-2.86zM5.41 20L4 18.59l7.72-7.72 1.47 1.35L5.41 20z\"/>\n",
              "  </svg>\n",
              "      </button>\n",
              "      \n",
              "  <style>\n",
              "    .colab-df-container {\n",
              "      display:flex;\n",
              "      flex-wrap:wrap;\n",
              "      gap: 12px;\n",
              "    }\n",
              "\n",
              "    .colab-df-convert {\n",
              "      background-color: #E8F0FE;\n",
              "      border: none;\n",
              "      border-radius: 50%;\n",
              "      cursor: pointer;\n",
              "      display: none;\n",
              "      fill: #1967D2;\n",
              "      height: 32px;\n",
              "      padding: 0 0 0 0;\n",
              "      width: 32px;\n",
              "    }\n",
              "\n",
              "    .colab-df-convert:hover {\n",
              "      background-color: #E2EBFA;\n",
              "      box-shadow: 0px 1px 2px rgba(60, 64, 67, 0.3), 0px 1px 3px 1px rgba(60, 64, 67, 0.15);\n",
              "      fill: #174EA6;\n",
              "    }\n",
              "\n",
              "    [theme=dark] .colab-df-convert {\n",
              "      background-color: #3B4455;\n",
              "      fill: #D2E3FC;\n",
              "    }\n",
              "\n",
              "    [theme=dark] .colab-df-convert:hover {\n",
              "      background-color: #434B5C;\n",
              "      box-shadow: 0px 1px 3px 1px rgba(0, 0, 0, 0.15);\n",
              "      filter: drop-shadow(0px 1px 2px rgba(0, 0, 0, 0.3));\n",
              "      fill: #FFFFFF;\n",
              "    }\n",
              "  </style>\n",
              "\n",
              "      <script>\n",
              "        const buttonEl =\n",
              "          document.querySelector('#df-ce4dcd9d-2ac3-4bdc-b1c0-46cb59171ec6 button.colab-df-convert');\n",
              "        buttonEl.style.display =\n",
              "          google.colab.kernel.accessAllowed ? 'block' : 'none';\n",
              "\n",
              "        async function convertToInteractive(key) {\n",
              "          const element = document.querySelector('#df-ce4dcd9d-2ac3-4bdc-b1c0-46cb59171ec6');\n",
              "          const dataTable =\n",
              "            await google.colab.kernel.invokeFunction('convertToInteractive',\n",
              "                                                     [key], {});\n",
              "          if (!dataTable) return;\n",
              "\n",
              "          const docLinkHtml = 'Like what you see? Visit the ' +\n",
              "            '<a target=\"_blank\" href=https://colab.research.google.com/notebooks/data_table.ipynb>data table notebook</a>'\n",
              "            + ' to learn more about interactive tables.';\n",
              "          element.innerHTML = '';\n",
              "          dataTable['output_type'] = 'display_data';\n",
              "          await google.colab.output.renderOutput(dataTable, element);\n",
              "          const docLink = document.createElement('div');\n",
              "          docLink.innerHTML = docLinkHtml;\n",
              "          element.appendChild(docLink);\n",
              "        }\n",
              "      </script>\n",
              "    </div>\n",
              "  </div>\n",
              "  "
            ],
            "text/plain": [
              "                                                                                                                                                                                                                                                                                                                                                                                                           Article  \\\n",
              "0  Asian elephants electrocuted after drinking session\\r\\nAnanova\\r\\nJanuary 20, 2004\\r\\n\\r\\nFour wild Asian elephants that got drunk on rice beer have been electrocuted \\r\\nin the northern Indian state of Meghalaya.\\r\\n\\r\\nA forest official said a herd of about 24 elephants went on the rampage in a \\r\\nremote area in the West Garo Hills district.\\r\\n\\r\\n\"The elephants, after getting high on rice...   \n",
              "1  2 HELD FOR ELEPHANTS ELECTROCUTION\\r\\nThe Hindu\\r\\nJanuary 27, 2004\\r\\n\\r\\nTwo farm assistants have been taken into custody by special teams of the \\r\\nForest department in connection with the electrocution of a tusker and a \\r\\nfemale elephant at two places in the Coimbatore reserve forest division. One \\r\\nincident was reported on Saturday night and the other on Sunday. The female \\r\\nelepha...   \n",
              "2  2 HELD FOR ELEPHANTS ELECTROCUTION\\r\\nThe Hindu\\r\\nJanuary 27, 2004\\r\\n\\r\\nTwo farm assistants have been taken into custody by special teams of the \\r\\nForest department in connection with the electrocution of a tusker and a \\r\\nfemale elephant at two places in the Coimbatore reserve forest division. One \\r\\nincident was reported on Saturday night and the other on Sunday. The female \\r\\nelepha...   \n",
              "3  TWO ELEPHANTS IN RIAU POISONED TO DEATH\\r\\nAntara - The Indonesian National News Agency\\r\\nJanuary 29, 2004\\r\\n\\r\\nPekanbaru, Jan 29 (ANTARA) - Two male elephants were found dead after being \\r\\npoisoned by unidentified persons at spot near the elephant training center \\r\\n(PTL) in Duri area, Bengkalis district, Riau, recently.\\r\\n\\r\\nChairman of a local non-governmental organization on wildli...   \n",
              "4  EXPERTS CALL FOR INVESTIGATION ON KILLING OF ELEPHANTS IN INDON PROVINCE\\r\\nAntara - The Indonesian National News Agency\\r\\nJanuary 29, 2004\\r\\n\\r\\nBandar Lampung, Lampung, Jan 29 (ANTARA) - A number of environmental \\r\\nactivists in Indonesia's Lampung province have urged concerned agencies to \\r\\nlook into the killing of four elephants at the Bukit Barisan National Park, \\r\\na spokesman has ...   \n",
              "\n",
              "   Y  \n",
              "0  1  \n",
              "1  1  \n",
              "2  1  \n",
              "3  1  \n",
              "4  1  "
            ]
          },
          "execution_count": 27,
          "metadata": {},
          "output_type": "execute_result"
        }
      ],
      "source": [
        "train['Y'] = 1\n",
        "train.drop(['Source', 'Date Published', 'Title'], axis=1, inplace=True)\n",
        "train.head()"
      ]
    },
    {
      "cell_type": "code",
      "execution_count": null,
      "metadata": {
        "colab": {
          "base_uri": "https://localhost:8080/",
          "height": 337
        },
        "id": "gwW3OS6BldVu",
        "outputId": "13fec4ea-3650-4d3a-ae9f-ec55c84bcb1e"
      },
      "outputs": [
        {
          "data": {
            "text/html": [
              "\n",
              "  <div id=\"df-188e5830-a59b-4ff9-823f-2958ff547f17\">\n",
              "    <div class=\"colab-df-container\">\n",
              "      <div>\n",
              "<style scoped>\n",
              "    .dataframe tbody tr th:only-of-type {\n",
              "        vertical-align: middle;\n",
              "    }\n",
              "\n",
              "    .dataframe tbody tr th {\n",
              "        vertical-align: top;\n",
              "    }\n",
              "\n",
              "    .dataframe thead th {\n",
              "        text-align: right;\n",
              "    }\n",
              "</style>\n",
              "<table border=\"1\" class=\"dataframe\">\n",
              "  <thead>\n",
              "    <tr style=\"text-align: right;\">\n",
              "      <th></th>\n",
              "      <th>Article</th>\n",
              "      <th>Y</th>\n",
              "    </tr>\n",
              "  </thead>\n",
              "  <tbody>\n",
              "    <tr>\n",
              "      <th>0</th>\n",
              "      <td>Asian elephants electrocuted after drinking session\\r\\nAnanova\\r\\nJanuary 20, 2004\\r\\n\\r\\nFour wild Asian elephants that got drunk on rice beer have been electrocuted \\r\\nin the northern Indian state of Meghalaya.\\r\\n\\r\\nA forest official said a herd of about 24 elephants went on the rampage in a \\r\\nremote area in the West Garo Hills district.\\r\\n\\r\\n\"The elephants, after getting high on rice...</td>\n",
              "      <td>1</td>\n",
              "    </tr>\n",
              "    <tr>\n",
              "      <th>1</th>\n",
              "      <td>2 HELD FOR ELEPHANTS ELECTROCUTION\\r\\nThe Hindu\\r\\nJanuary 27, 2004\\r\\n\\r\\nTwo farm assistants have been taken into custody by special teams of the \\r\\nForest department in connection with the electrocution of a tusker and a \\r\\nfemale elephant at two places in the Coimbatore reserve forest division. One \\r\\nincident was reported on Saturday night and the other on Sunday. The female \\r\\nelepha...</td>\n",
              "      <td>1</td>\n",
              "    </tr>\n",
              "    <tr>\n",
              "      <th>2</th>\n",
              "      <td>2 HELD FOR ELEPHANTS ELECTROCUTION\\r\\nThe Hindu\\r\\nJanuary 27, 2004\\r\\n\\r\\nTwo farm assistants have been taken into custody by special teams of the \\r\\nForest department in connection with the electrocution of a tusker and a \\r\\nfemale elephant at two places in the Coimbatore reserve forest division. One \\r\\nincident was reported on Saturday night and the other on Sunday. The female \\r\\nelepha...</td>\n",
              "      <td>1</td>\n",
              "    </tr>\n",
              "    <tr>\n",
              "      <th>3</th>\n",
              "      <td>TWO ELEPHANTS IN RIAU POISONED TO DEATH\\r\\nAntara - The Indonesian National News Agency\\r\\nJanuary 29, 2004\\r\\n\\r\\nPekanbaru, Jan 29 (ANTARA) - Two male elephants were found dead after being \\r\\npoisoned by unidentified persons at spot near the elephant training center \\r\\n(PTL) in Duri area, Bengkalis district, Riau, recently.\\r\\n\\r\\nChairman of a local non-governmental organization on wildli...</td>\n",
              "      <td>1</td>\n",
              "    </tr>\n",
              "    <tr>\n",
              "      <th>4</th>\n",
              "      <td>EXPERTS CALL FOR INVESTIGATION ON KILLING OF ELEPHANTS IN INDON PROVINCE\\r\\nAntara - The Indonesian National News Agency\\r\\nJanuary 29, 2004\\r\\n\\r\\nBandar Lampung, Lampung, Jan 29 (ANTARA) - A number of environmental \\r\\nactivists in Indonesia's Lampung province have urged concerned agencies to \\r\\nlook into the killing of four elephants at the Bukit Barisan National Park, \\r\\na spokesman has ...</td>\n",
              "      <td>1</td>\n",
              "    </tr>\n",
              "  </tbody>\n",
              "</table>\n",
              "</div>\n",
              "      <button class=\"colab-df-convert\" onclick=\"convertToInteractive('df-188e5830-a59b-4ff9-823f-2958ff547f17')\"\n",
              "              title=\"Convert this dataframe to an interactive table.\"\n",
              "              style=\"display:none;\">\n",
              "        \n",
              "  <svg xmlns=\"http://www.w3.org/2000/svg\" height=\"24px\"viewBox=\"0 0 24 24\"\n",
              "       width=\"24px\">\n",
              "    <path d=\"M0 0h24v24H0V0z\" fill=\"none\"/>\n",
              "    <path d=\"M18.56 5.44l.94 2.06.94-2.06 2.06-.94-2.06-.94-.94-2.06-.94 2.06-2.06.94zm-11 1L8.5 8.5l.94-2.06 2.06-.94-2.06-.94L8.5 2.5l-.94 2.06-2.06.94zm10 10l.94 2.06.94-2.06 2.06-.94-2.06-.94-.94-2.06-.94 2.06-2.06.94z\"/><path d=\"M17.41 7.96l-1.37-1.37c-.4-.4-.92-.59-1.43-.59-.52 0-1.04.2-1.43.59L10.3 9.45l-7.72 7.72c-.78.78-.78 2.05 0 2.83L4 21.41c.39.39.9.59 1.41.59.51 0 1.02-.2 1.41-.59l7.78-7.78 2.81-2.81c.8-.78.8-2.07 0-2.86zM5.41 20L4 18.59l7.72-7.72 1.47 1.35L5.41 20z\"/>\n",
              "  </svg>\n",
              "      </button>\n",
              "      \n",
              "  <style>\n",
              "    .colab-df-container {\n",
              "      display:flex;\n",
              "      flex-wrap:wrap;\n",
              "      gap: 12px;\n",
              "    }\n",
              "\n",
              "    .colab-df-convert {\n",
              "      background-color: #E8F0FE;\n",
              "      border: none;\n",
              "      border-radius: 50%;\n",
              "      cursor: pointer;\n",
              "      display: none;\n",
              "      fill: #1967D2;\n",
              "      height: 32px;\n",
              "      padding: 0 0 0 0;\n",
              "      width: 32px;\n",
              "    }\n",
              "\n",
              "    .colab-df-convert:hover {\n",
              "      background-color: #E2EBFA;\n",
              "      box-shadow: 0px 1px 2px rgba(60, 64, 67, 0.3), 0px 1px 3px 1px rgba(60, 64, 67, 0.15);\n",
              "      fill: #174EA6;\n",
              "    }\n",
              "\n",
              "    [theme=dark] .colab-df-convert {\n",
              "      background-color: #3B4455;\n",
              "      fill: #D2E3FC;\n",
              "    }\n",
              "\n",
              "    [theme=dark] .colab-df-convert:hover {\n",
              "      background-color: #434B5C;\n",
              "      box-shadow: 0px 1px 3px 1px rgba(0, 0, 0, 0.15);\n",
              "      filter: drop-shadow(0px 1px 2px rgba(0, 0, 0, 0.3));\n",
              "      fill: #FFFFFF;\n",
              "    }\n",
              "  </style>\n",
              "\n",
              "      <script>\n",
              "        const buttonEl =\n",
              "          document.querySelector('#df-188e5830-a59b-4ff9-823f-2958ff547f17 button.colab-df-convert');\n",
              "        buttonEl.style.display =\n",
              "          google.colab.kernel.accessAllowed ? 'block' : 'none';\n",
              "\n",
              "        async function convertToInteractive(key) {\n",
              "          const element = document.querySelector('#df-188e5830-a59b-4ff9-823f-2958ff547f17');\n",
              "          const dataTable =\n",
              "            await google.colab.kernel.invokeFunction('convertToInteractive',\n",
              "                                                     [key], {});\n",
              "          if (!dataTable) return;\n",
              "\n",
              "          const docLinkHtml = 'Like what you see? Visit the ' +\n",
              "            '<a target=\"_blank\" href=https://colab.research.google.com/notebooks/data_table.ipynb>data table notebook</a>'\n",
              "            + ' to learn more about interactive tables.';\n",
              "          element.innerHTML = '';\n",
              "          dataTable['output_type'] = 'display_data';\n",
              "          await google.colab.output.renderOutput(dataTable, element);\n",
              "          const docLink = document.createElement('div');\n",
              "          docLink.innerHTML = docLinkHtml;\n",
              "          element.appendChild(docLink);\n",
              "        }\n",
              "      </script>\n",
              "    </div>\n",
              "  </div>\n",
              "  "
            ],
            "text/plain": [
              "                                                                                                                                                                                                                                                                                                                                                                                                           Article  \\\n",
              "0  Asian elephants electrocuted after drinking session\\r\\nAnanova\\r\\nJanuary 20, 2004\\r\\n\\r\\nFour wild Asian elephants that got drunk on rice beer have been electrocuted \\r\\nin the northern Indian state of Meghalaya.\\r\\n\\r\\nA forest official said a herd of about 24 elephants went on the rampage in a \\r\\nremote area in the West Garo Hills district.\\r\\n\\r\\n\"The elephants, after getting high on rice...   \n",
              "1  2 HELD FOR ELEPHANTS ELECTROCUTION\\r\\nThe Hindu\\r\\nJanuary 27, 2004\\r\\n\\r\\nTwo farm assistants have been taken into custody by special teams of the \\r\\nForest department in connection with the electrocution of a tusker and a \\r\\nfemale elephant at two places in the Coimbatore reserve forest division. One \\r\\nincident was reported on Saturday night and the other on Sunday. The female \\r\\nelepha...   \n",
              "2  2 HELD FOR ELEPHANTS ELECTROCUTION\\r\\nThe Hindu\\r\\nJanuary 27, 2004\\r\\n\\r\\nTwo farm assistants have been taken into custody by special teams of the \\r\\nForest department in connection with the electrocution of a tusker and a \\r\\nfemale elephant at two places in the Coimbatore reserve forest division. One \\r\\nincident was reported on Saturday night and the other on Sunday. The female \\r\\nelepha...   \n",
              "3  TWO ELEPHANTS IN RIAU POISONED TO DEATH\\r\\nAntara - The Indonesian National News Agency\\r\\nJanuary 29, 2004\\r\\n\\r\\nPekanbaru, Jan 29 (ANTARA) - Two male elephants were found dead after being \\r\\npoisoned by unidentified persons at spot near the elephant training center \\r\\n(PTL) in Duri area, Bengkalis district, Riau, recently.\\r\\n\\r\\nChairman of a local non-governmental organization on wildli...   \n",
              "4  EXPERTS CALL FOR INVESTIGATION ON KILLING OF ELEPHANTS IN INDON PROVINCE\\r\\nAntara - The Indonesian National News Agency\\r\\nJanuary 29, 2004\\r\\n\\r\\nBandar Lampung, Lampung, Jan 29 (ANTARA) - A number of environmental \\r\\nactivists in Indonesia's Lampung province have urged concerned agencies to \\r\\nlook into the killing of four elephants at the Bukit Barisan National Park, \\r\\na spokesman has ...   \n",
              "\n",
              "   Y  \n",
              "0  1  \n",
              "1  1  \n",
              "2  1  \n",
              "3  1  \n",
              "4  1  "
            ]
          },
          "execution_count": 28,
          "metadata": {},
          "output_type": "execute_result"
        }
      ],
      "source": [
        "train = pd.concat([train, all_news])\n",
        "del all_news\n",
        "gc.collect()\n",
        "train.head()"
      ]
    },
    {
      "cell_type": "code",
      "execution_count": null,
      "metadata": {
        "id": "4RK0aL6q-jG_"
      },
      "outputs": [],
      "source": [
        "train = train[train.Article.notna()]\n",
        "train = train[train.Y.notna()]"
      ]
    },
    {
      "cell_type": "code",
      "execution_count": null,
      "metadata": {
        "colab": {
          "base_uri": "https://localhost:8080/"
        },
        "id": "Ow3m26148fl_",
        "outputId": "0f17887a-383e-4b28-f2fa-44560b144726"
      },
      "outputs": [
        {
          "data": {
            "text/plain": [
              "False"
            ]
          },
          "execution_count": 30,
          "metadata": {},
          "output_type": "execute_result"
        }
      ],
      "source": [
        "train.isnull().values.any()"
      ]
    },
    {
      "cell_type": "code",
      "execution_count": null,
      "metadata": {
        "colab": {
          "base_uri": "https://localhost:8080/",
          "height": 49
        },
        "id": "zyHHuPTw-RGE",
        "outputId": "aeb8d392-32c8-4ba9-9755-68ac3bfa794f"
      },
      "outputs": [
        {
          "data": {
            "text/html": [
              "\n",
              "  <div id=\"df-7babbef5-1646-41ef-a111-b0ae3398cde9\">\n",
              "    <div class=\"colab-df-container\">\n",
              "      <div>\n",
              "<style scoped>\n",
              "    .dataframe tbody tr th:only-of-type {\n",
              "        vertical-align: middle;\n",
              "    }\n",
              "\n",
              "    .dataframe tbody tr th {\n",
              "        vertical-align: top;\n",
              "    }\n",
              "\n",
              "    .dataframe thead th {\n",
              "        text-align: right;\n",
              "    }\n",
              "</style>\n",
              "<table border=\"1\" class=\"dataframe\">\n",
              "  <thead>\n",
              "    <tr style=\"text-align: right;\">\n",
              "      <th></th>\n",
              "      <th>Article</th>\n",
              "      <th>Y</th>\n",
              "    </tr>\n",
              "  </thead>\n",
              "  <tbody>\n",
              "  </tbody>\n",
              "</table>\n",
              "</div>\n",
              "      <button class=\"colab-df-convert\" onclick=\"convertToInteractive('df-7babbef5-1646-41ef-a111-b0ae3398cde9')\"\n",
              "              title=\"Convert this dataframe to an interactive table.\"\n",
              "              style=\"display:none;\">\n",
              "        \n",
              "  <svg xmlns=\"http://www.w3.org/2000/svg\" height=\"24px\"viewBox=\"0 0 24 24\"\n",
              "       width=\"24px\">\n",
              "    <path d=\"M0 0h24v24H0V0z\" fill=\"none\"/>\n",
              "    <path d=\"M18.56 5.44l.94 2.06.94-2.06 2.06-.94-2.06-.94-.94-2.06-.94 2.06-2.06.94zm-11 1L8.5 8.5l.94-2.06 2.06-.94-2.06-.94L8.5 2.5l-.94 2.06-2.06.94zm10 10l.94 2.06.94-2.06 2.06-.94-2.06-.94-.94-2.06-.94 2.06-2.06.94z\"/><path d=\"M17.41 7.96l-1.37-1.37c-.4-.4-.92-.59-1.43-.59-.52 0-1.04.2-1.43.59L10.3 9.45l-7.72 7.72c-.78.78-.78 2.05 0 2.83L4 21.41c.39.39.9.59 1.41.59.51 0 1.02-.2 1.41-.59l7.78-7.78 2.81-2.81c.8-.78.8-2.07 0-2.86zM5.41 20L4 18.59l7.72-7.72 1.47 1.35L5.41 20z\"/>\n",
              "  </svg>\n",
              "      </button>\n",
              "      \n",
              "  <style>\n",
              "    .colab-df-container {\n",
              "      display:flex;\n",
              "      flex-wrap:wrap;\n",
              "      gap: 12px;\n",
              "    }\n",
              "\n",
              "    .colab-df-convert {\n",
              "      background-color: #E8F0FE;\n",
              "      border: none;\n",
              "      border-radius: 50%;\n",
              "      cursor: pointer;\n",
              "      display: none;\n",
              "      fill: #1967D2;\n",
              "      height: 32px;\n",
              "      padding: 0 0 0 0;\n",
              "      width: 32px;\n",
              "    }\n",
              "\n",
              "    .colab-df-convert:hover {\n",
              "      background-color: #E2EBFA;\n",
              "      box-shadow: 0px 1px 2px rgba(60, 64, 67, 0.3), 0px 1px 3px 1px rgba(60, 64, 67, 0.15);\n",
              "      fill: #174EA6;\n",
              "    }\n",
              "\n",
              "    [theme=dark] .colab-df-convert {\n",
              "      background-color: #3B4455;\n",
              "      fill: #D2E3FC;\n",
              "    }\n",
              "\n",
              "    [theme=dark] .colab-df-convert:hover {\n",
              "      background-color: #434B5C;\n",
              "      box-shadow: 0px 1px 3px 1px rgba(0, 0, 0, 0.15);\n",
              "      filter: drop-shadow(0px 1px 2px rgba(0, 0, 0, 0.3));\n",
              "      fill: #FFFFFF;\n",
              "    }\n",
              "  </style>\n",
              "\n",
              "      <script>\n",
              "        const buttonEl =\n",
              "          document.querySelector('#df-7babbef5-1646-41ef-a111-b0ae3398cde9 button.colab-df-convert');\n",
              "        buttonEl.style.display =\n",
              "          google.colab.kernel.accessAllowed ? 'block' : 'none';\n",
              "\n",
              "        async function convertToInteractive(key) {\n",
              "          const element = document.querySelector('#df-7babbef5-1646-41ef-a111-b0ae3398cde9');\n",
              "          const dataTable =\n",
              "            await google.colab.kernel.invokeFunction('convertToInteractive',\n",
              "                                                     [key], {});\n",
              "          if (!dataTable) return;\n",
              "\n",
              "          const docLinkHtml = 'Like what you see? Visit the ' +\n",
              "            '<a target=\"_blank\" href=https://colab.research.google.com/notebooks/data_table.ipynb>data table notebook</a>'\n",
              "            + ' to learn more about interactive tables.';\n",
              "          element.innerHTML = '';\n",
              "          dataTable['output_type'] = 'display_data';\n",
              "          await google.colab.output.renderOutput(dataTable, element);\n",
              "          const docLink = document.createElement('div');\n",
              "          docLink.innerHTML = docLinkHtml;\n",
              "          element.appendChild(docLink);\n",
              "        }\n",
              "      </script>\n",
              "    </div>\n",
              "  </div>\n",
              "  "
            ],
            "text/plain": [
              "Empty DataFrame\n",
              "Columns: [Article, Y]\n",
              "Index: []"
            ]
          },
          "execution_count": 31,
          "metadata": {},
          "output_type": "execute_result"
        }
      ],
      "source": [
        "train[train.Article.isnull()]"
      ]
    },
    {
      "cell_type": "markdown",
      "metadata": {
        "id": "nBlBrxFqFLNh"
      },
      "source": [
        "# Validation Set"
      ]
    },
    {
      "cell_type": "code",
      "execution_count": null,
      "metadata": {
        "id": "bKDP70yEbygw"
      },
      "outputs": [],
      "source": [
        "def split_data(df, test_percentage,cv):\n",
        "  train, test = train_test_split(df, test_size=int(test_percentage*len(df)), stratify = df[\"Y\"])\n",
        "  val = None\n",
        "  if cv == True:\n",
        "    train, val = train_test_split(df, test_size=int(test_percentage*len(df)), stratify = df[\"Y\"])\n",
        "  return train, test, val"
      ]
    },
    {
      "cell_type": "code",
      "execution_count": null,
      "metadata": {
        "id": "xaSR0rDIpTwj"
      },
      "outputs": [],
      "source": [
        "train, test, val = split_data(train, 0.2, True)\n",
        "train_y = train['Y'].to_numpy()\n",
        "test_y = test['Y'].to_numpy()\n",
        "val_y = val['Y'].to_numpy()\n",
        "train.drop(columns='Y', inplace=True)\n",
        "test.drop(columns='Y', inplace=True)\n",
        "val.drop(columns='Y', inplace=True)\n",
        "train =  train.to_numpy()\n",
        "test =  test.to_numpy()\n",
        "val =  val.to_numpy()"
      ]
    },
    {
      "cell_type": "markdown",
      "metadata": {
        "id": "iXQ428958hGx"
      },
      "source": [
        "# Trying out NLP\n",
        "*   https://www.tensorflow.org/hub/tutorials/tf2_text_classification#create_a_validation_set\n",
        "*   https://www.tensorflow.org/hub/tutorials/bert_experts\n",
        "*  https://www.tensorflow.org/hub/tutorials/semantic_similarity_with_tf_hub_universal_encoder\n",
        "* https://www.tensorflow.org/hub/tutorials/semantic_similarity_with_tf_hub_universal_encoder"
      ]
    },
    {
      "cell_type": "markdown",
      "metadata": {
        "id": "vdguSjWmENRH"
      },
      "source": [
        "## Encoding to help represent text as vectors for input to a model\n",
        "Tried out spacy and tensorflow"
      ]
    },
    {
      "cell_type": "code",
      "execution_count": null,
      "metadata": {
        "id": "EYuop54d8kgM"
      },
      "outputs": [],
      "source": [
        "#spacy.cli.download(\"en_core_web_trf\")\n",
        "#nlp = spacy.load(\"en_core_web_trf\")"
      ]
    },
    {
      "cell_type": "code",
      "execution_count": null,
      "metadata": {
        "id": "zslf4sjw_68x"
      },
      "outputs": [],
      "source": [
        "#doc = nlp(train['Article'][1])\n",
        "#displacy.render(doc, style='ent', jupyter=True)"
      ]
    },
    {
      "cell_type": "code",
      "execution_count": null,
      "metadata": {
        "colab": {
          "base_uri": "https://localhost:8080/"
        },
        "id": "sZo5uH4ay4Ci",
        "outputId": "11e0e22b-42a7-4bd5-b9be-cb36c95d01cc"
      },
      "outputs": [
        {
          "data": {
            "text/plain": [
              "array(['WASHINGTON, May 17 (Reuters) - U.S. government officials on Thursday are set to begin investigating Boeing Co’s unfair trade claims against Canadian rival Bombardier, a two-track action that could lead to U.S. duties on Bombardier’s new jetliner and also pits Boeing against Delta Air Lines Inc. The U.S. Commerce Department is poised to announce the launch of its investigation. U.S. International Trade Commission (USITC) staff will hear testimony from both companies and from Bombardier customer Delta in the case. Boeing alleges that Bombardier’s new 100-150 seat CSeries jetliners are being dumped below cost in the U.S. market, and are unfairly subsidized by Canadian taxpayers. The new Canadian aircraft competes with Boeing’s 737-700 and 737 MAX 7 jets. Delta agreed last year to buy dozens of CSeries planes at a price that Boeing says was well below Bombardier’s cost. The case has increased trade tensions between the United States and Canada - along with disputes over Canadian softwood lumber and U.S. milk protein products - as both countries prepare for a possible renegotiation of the North American Free Trade Agreement under the “America First” trade policy of U.S. President Donald Trump. The Commerce Department is expected to proceed with the antidumping and antisubsidy claims, trade lawyers and experts said. “Commerce is going to go forward, there’s no doubt about it,” said William Perry, a Seattle-based trade lawyer and a former USITC staff attorney. The investigation is the latest to hit Bombardier after Brazil launched a trade dispute against Canada at the World Trade Organization, similarly alleging unfair competition. Brazilian officials welcomed the U.S. probe as support to the South America country’s claim that Canada’s support for Bombardier’s CSeries undercuts the market for commercial jets made by Brazilian rival Embraer. A Commerce Department investigation into Boeing’s claims could be cut short if the USITC rejects it in a vote expected on June 12. If the trade body allows the probe to continue, the Commerce Department would then need to determine any preliminary anti-subsidy duties by around July 22, with a deadline for preliminary anti-dumping duties around Oct. 3. The Commerce Department last month began collecting duties averaging 20 percent on imports of Canadian softwood lumber, saying that the product’s origin from public land amounted to an unfair government subsidy. Boeing said in its petition that Bombardier, determined to win a key order from Delta after losing a competition at United Airlines, had offered its planes to the airline at an “absurdly low” $19.6 million each, well below what it described as the aircraft’s production cost of $33.2 million. Boeing’s similarly sized 737-700 model has a current list price of $82.4 million, with the new 737-MAX 7 priced at $92.2 million. Sales discounts from list prices are typically 40 percent to 50 percent in the industry. In April 2016, Bombardier won the Delta order, its biggest yet, for 75 CS100 jets, worth an estimated $5.6 billion based on the list price of about $71.8 million. In its complaint against Bombardier, Boeing argued that the CSeries program would not exist without hundreds of millions of dollars in launch aid from the governments of Canada, Quebec and Britain, or a $2.5 billion equity infusion from Quebec and its largest pension fund in 2015. If Commerce’s investigation finds that duties on the Bombardier aircraft are warranted, those would likely be imposed on Delta. Representatives for the airline are scheduled to appear at Thursday’s hearing to oppose Boeing’s call for duties. “Delta is no pushover,” said Gary Hufbauer, a senior fellow and trade expert at the Peterson Institute for International Economics, said of the Atlanta-based carrier. “They’ll have the Georgia delegation behind them, and likely a lot of others in Congress.” (Additional reporting by Alwyn Scott in Seattle, Tim Hepher in Paris, David Ljunggren in Ottawa, Allison Lampert in Montreal and Alonso Soto in Brasilia; Writing by David Lawder; Editing by Bill Rigby and Leslie Adler)',\n",
              "       '(Adds details from early trade, updates prices) * TSX falls 88.99 points, or 0.62 percent, to 14,224.11 * Eight of the TSX’s 10 main groups move lower TORONTO, June 9 (Reuters) - Canada’s main stock index fell on Thursday as a pullback in crude oil prices weighed on energy stocks after three days of gains that pushed oil to 2016 highs. Financial stocks also pulled the Toronto Stock Exchange’s S&P/TSX composite index lower, hurt by a fall in global bond yields as investors moved on waning expectations of higher U.S. interest rates. The most influential movers on the index included Manulife Financial, which declined 2 percent to C$18.64. Royal Bank of Canada fell 1.1 percent to C$78.92, Toronto-Dominion Bank lost 0.9 percent to C$57.08, and the heavyweight financials group slipped 0.9 percent overall. The energy group retreated 0.9 percent, with Canadian Natural Resources down 0.7 percent to C$38.32. U.S. crude prices were down 1.4 percent at $50.52 a barrel, while Brent lost 1.3 percent to $51.84. At 10:13 a.m. EDT (1413 GMT), the Toronto index was down 88.99 points, or 0.62 percent, to 14,224.11. Eight of its 10 main groups were in negative territory, with three decliners for every gainer. Baytex Energy Corp declined 1.5 percent to C$8.30 after a sharp jump in recent days. The company has restarted nearly all the heavy crude output it shut last year, encouraged by the months-long rally in oil prices, a source familiar with the matter said on Wednesday. Industrials fell 0.6 percent, while the materials group, which includes precious and base metals miners and fertilizer companies, lost 0.5 percent. Gold futures rose 0.3 percent to $1,263.9 an ounce and copper prices declined 1.6 percent to $4,506.5 a tonne. (Reporting by Alastair Sharp; Editing by James Dalgleish)',\n",
              "       \"In the United States, Easter is all about baskets brimming with candy and, from a religious standpoint, the resurrection of Jesus Christ. But, while Christians in the States are out hunting for pastel-dyed eggs, Norwegians are cozied up reading riveting tales of deceit and murder. For over 90 years, citizens of the Scandinavian nation have celebrated the holiday by reading and watching works in the tantalizing genre of true crime. According to British weekly magazine The Spectator, this tradition started in 1932, when authors Nordahl Grieg and Nils Lie engaged in their own unique brand of guerilla marketing for their book about a train robbery that took place on Easter. Instead of posting a conventional ad in the newspaper, they published an excerpt from the book on the front page. For whatever reason, this work of pure fiction ended up looking like actual news (maybe it was because the book's title, translated from the original Norwegian, was The Bergen train was robbed in the night). Once that confusion was cleared up, people bought the book in droves. What was already a popular genre became inextricably linked to the Easter season in the public imagination. And so, the tradition of påskekrim was born. Since then, the custom has expanded beyond mere books, and for good reason: The week leading up to Easter, known as Holy Week, is a public holiday in Norway, so nearly everyone has off from work and school. It's not uncommon for people spend their break in vacation cabins in the mountains. Cooped and surrounded by snow for at least a week, it's fair to say that the people of Norway have a lot of free time on their hands this time of year. So, not only do special TV series air in the name of påskekrim, but milk cartons with comics posted on their sides invite people to participate in real time and solve the mystery that unfolds in comic's panels. Norwegian teen Margit Brooks tells Refinery29 that the lucky sleuths who figure out whodunit win a prize. That alone would keep us busy for a week. If this sounds too odd to be true, just check Instagram. Using the hashtags #påskekrim and #eastercrime, Norwegians users post photos of their true crime novel of choice, usually accompanied by a mug of tea, glass of wine, or other cozy accoutrements. Looks pleasant enough to forget that Easter, in general, has nothing to do with true crime, if you ask us. Besides, it isn't like the Easter Bunny makes a ton of sense, either. Read these stories next:Our Favorite Crime Shows Of All Time 11 Brunch Ideas To Get Things Hoppin' This Easter The Limited Edition Easter Candy Worth An Egg Hunt Battle This Year\",\n",
              "       ...,\n",
              "       '(Adds details throughout on stocks and sectors, updates prices) * TSX up 49.82 points, or 0.35 percent, to 14,136.49 * Five of TSX’s 10 main groups rise TORONTO, May 31 (Reuters) - Canada’s main stock index rose on Tuesday to a new nine-month high as higher commodities supported energy and mining stocks. The most influential movers on the index included Canadian Natural Resources Ltd, which rose 1.6 percent to C$39.17, and Enbridge Inc, which advanced 3.2 percent to C$22.23. The overall energy group rose 1.4 percent, while U.S. crude prices were up 1.2 percent to $49.94 a barrel. The materials group, which includes precious and base metals miners and fertilizer companies, added 2.2 percent. Barrick Gold climbed 3.1 percent to C$22.21, while Goldcorp Inc was up 2.6 percent at C$22.21 as spot gold gained 0.7 percent. At 10:41 a.m. EDT (1441 GMT), the Toronto Stock Exchange’s S&P/TSX composite index rose 49.82 points, or 0.35 percent, to 14,136.49. The index touched its highest level since Aug. 19 at 14,172.35. It has rallied more than 22 percent from an almost 3-1/2-year low in January. Five of the index’s 10 main groups were higher. Bank of Nova Scotia reported second-quarter results below market expectations and increased funds set aside to cover bad loans by 40 percent as lending to energy companies turned sour. Its shares fell 0.4 percent to C$64.71, while the overall financials group dipped 0.1 percent. Healthcare stocks fell 2 percent, while consumer discretionary stocks were down 0.4 percent. Canada’s economic growth accelerated less than expected in the first three months of the year and appeared to slow heading into the second quarter, data from Statistics Canada showed. (Reporting by Fergal Smith; Editing by Paul Simao)',\n",
              "       '(Adds CEO’s full name in paragraph 3) PARIS, Feb 25 (Reuters) - French cooperative group InVivo aims to expand its new internet platform for farm products to reach at least 3 billion euros ($3.25 billion) in sales by 2030, as it brings in partners from other countries and adds new products, it said on Tuesday. Betting on more digitalisation in agriculture, InVivo invested 50 million euros in developing Aladin, which was launched last year as a marketplace for farm supplies along the lines of online retailer Amazon. Aladin sells seeds and pesticides to nine cooperatives representing 50,000 farmers and aims to reach 100,000 farmers in the 2020/21 season and sales of 100 million-120 million euros, Chief Executive Thierry Blandinieres said. Online sales would initially come by replacing direct sales for such products that now total to 1.2 billion euros, before expanding into new offerings, Blandinieres said. “We will go 360 degrees around the farmer and propose agriculture machinery, equipment, services like insurance, and this is where we will be able to reach a second phase to attain 3 to 4 billion euros in 2030,” Blandinieres told reporters at the Paris farm show. InVivo, a grouping of some 200 agricultural cooperatives, is presenting the project to other cooperatives in northern Europe and Switzerland and hopes to reach a deal with at least one of them within a few months, Blandinieres said. This would likely be through a contract to use the platform rather than a joint venture, he said. InVivo generated sales of 5.2 billion euros in its 2018/19 year to June 30 from its activities that also span grain trading, garden retailing and wine distribution. After selling its animal nutrition unit Neovia to U.S. agribusiness group Archer Daniels Midland in 2018, InVivo had said it would invest in farming solutions and acquisitions in the wine sector. $1 = 0.9227 euros\\nReporting by Sybille de La Hamaide; Editing by Edmund Blair',\n",
              "       'News that the University of Cambridge made Stephen Hawking\\'s seminal doctoral thesis (on how universes expand) publicly available sent positive shockwaves out to physics fans around the world.\\xa0 The response has been so overwhelming that the number of people trying to access the thesis actually crashed Cambridge University\\'s open access repository site.\\xa0 \"We have had a huge response to Professor Hawking\\'s decision to make his PhD thesis publicly available to download, with 60,000 downloads in less than 24 hours,\" a spokesperson for the University of Cambridge said in a statement to Mashable. \"As a result, visitors to our open access site may find that it is performing slower than usual and may at times be temporarily unavailable.\"\\xa0 The spokesperson added that 409,977 people have viewed the repository page with the thesis since the announcement yesterday.\\xa0 Fancy a bit of light reading? We\\'ve put #StephenHawking\\'s 1966 PhD thesis online to celebrate #openaccessweek https://t.co/bakmB4kRtl — Cambridge University (@Cambridge_Uni) October 23, 2017 The site couldn\\'t be reached when Mashable attempted to access it this morning.\\xa0  Hawking wrote his thesis, entitled Properties of Expanding Universes in 1966 and recently gave his permission to make the document available. It quickly became the most requested item in the university\\'s open access repository. “By making my PhD thesis Open Access, I hope to inspire people around the world to look up at the stars and not down at their feet; to wonder about our place in the universe and to try and make sense of the cosmos,\" Hawking said in a statement.\\xa0 '],\n",
              "      dtype=object)"
            ]
          },
          "execution_count": 36,
          "metadata": {},
          "output_type": "execute_result"
        }
      ],
      "source": [
        "train = train.squeeze()\n",
        "train"
      ]
    },
    {
      "cell_type": "code",
      "execution_count": null,
      "metadata": {
        "id": "-e8zVOjhBVq-"
      },
      "outputs": [],
      "source": [
        "embed = hub.load(\"https://tfhub.dev/google/universal-sentence-encoder-large/5\")\n",
        "embed_layer = hub.KerasLayer(embed, input_shape=[], dtype=tf.string, trainable=True)\n",
        "embed_layer(train)"
      ]
    },
    {
      "cell_type": "code",
      "execution_count": null,
      "metadata": {
        "colab": {
          "base_uri": "https://localhost:8080/"
        },
        "id": "jVwur6SYEZyB",
        "outputId": "7b5017c4-c6e1-4b08-e054-f08d2a534877"
      },
      "outputs": [
        {
          "name": "stdout",
          "output_type": "stream",
          "text": [
            "Model: \"sequential\"\n",
            "_________________________________________________________________\n",
            " Layer (type)                Output Shape              Param #   \n",
            "=================================================================\n",
            " keras_layer (KerasLayer)    (None, 512)               147354880 \n",
            "                                                                 \n",
            " dense (Dense)               (None, 1)                 513       \n",
            "                                                                 \n",
            "=================================================================\n",
            "Total params: 147,355,393\n",
            "Trainable params: 147,355,393\n",
            "Non-trainable params: 0\n",
            "_________________________________________________________________\n"
          ]
        }
      ],
      "source": [
        "model = tf.keras.Sequential()\n",
        "model.add(embed_layer)\n",
        "#model.add(tf.keras.layers.Dense(16, activation='relu'))\n",
        "model.add(tf.keras.layers.Dense(1))\n",
        "model.summary()\n",
        "model.compile(optimizer='adam',\n",
        "              loss=tf.losses.BinaryCrossentropy(from_logits=True),\n",
        "              metrics=[tf.metrics.BinaryAccuracy(threshold=0.0, name='accuracy')])\n",
        "history = model.fit(train,\n",
        "                    train_y,\n",
        "                    epochs=1,\n",
        "                    batch_size=10,\n",
        "                    validation_data=(val,val_y),\n",
        "                    verbose=1)\n"
      ]
    },
    {
      "cell_type": "code",
      "execution_count": null,
      "metadata": {
        "id": "eunfJ3N01HjB"
      },
      "outputs": [],
      "source": [
        "print(\"Input\")\n",
        "[print(i.shape, i.dtype) for i in model.inputs]\n",
        "print(\"Out\")\n",
        "[print(o.shape, o.dtype) for o in model.outputs]\n",
        "print(\"---\")\n",
        "[print(l.name, l.input_shape, l.dtype) for l in model.layers]"
      ]
    }
  ],
  "metadata": {
    "colab": {
      "collapsed_sections": [],
      "machine_shape": "hm",
      "provenance": []
    },
    "kernelspec": {
      "display_name": "Python 3.8.5 ('base')",
      "language": "python",
      "name": "python3"
    },
    "language_info": {
      "codemirror_mode": {
        "name": "ipython",
        "version": 3
      },
      "file_extension": ".py",
      "mimetype": "text/x-python",
      "name": "python",
      "nbconvert_exporter": "python",
      "pygments_lexer": "ipython3",
      "version": "3.8.5"
    },
    "vscode": {
      "interpreter": {
        "hash": "b58260a2b0bc9f8634fd0f8e7e522819c0f71a4e4a0b251bd4ed4ceb64541301"
      }
    }
  },
  "nbformat": 4,
  "nbformat_minor": 0
}
